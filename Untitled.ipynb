{
 "cells": [
  {
   "cell_type": "markdown",
   "metadata": {},
   "source": [
    "# Load data into Spark DataFrame"
   ]
  },
  {
   "cell_type": "code",
   "execution_count": 1,
   "metadata": {},
   "outputs": [],
   "source": [
    "from pyspark import SparkContext"
   ]
  },
  {
   "cell_type": "code",
   "execution_count": 2,
   "metadata": {},
   "outputs": [],
   "source": [
    "import pyspark.sql.functions as F"
   ]
  },
  {
   "cell_type": "code",
   "execution_count": 3,
   "metadata": {},
   "outputs": [],
   "source": [
    "import matplotlib.pyplot as plt\n",
    "\n",
    "%matplotlib inline"
   ]
  },
  {
   "cell_type": "code",
   "execution_count": 4,
   "metadata": {},
   "outputs": [],
   "source": [
    "df = spark.read.csv('../data/event_ds.csv',header=True).cache()"
   ]
  },
  {
   "cell_type": "code",
   "execution_count": 5,
   "metadata": {},
   "outputs": [
    {
     "data": {
      "text/plain": [
       "DataFrame[uid: string, event: string, song_id: string, date: string]"
      ]
     },
     "execution_count": 5,
     "metadata": {},
     "output_type": "execute_result"
    }
   ],
   "source": [
    "df"
   ]
  },
  {
   "cell_type": "code",
   "execution_count": 6,
   "metadata": {},
   "outputs": [
    {
     "name": "stdout",
     "output_type": "stream",
     "text": [
      "+---------+-----+--------+----------+\n",
      "|      uid|event| song_id|      date|\n",
      "+---------+-----+--------+----------+\n",
      "|168551248|    P|21393368|2017-03-30|\n",
      "|168551026|    P|19477157|2017-03-30|\n",
      "|168551417|    P|  727161|2017-03-30|\n",
      "|168551156|    P|  313037|2017-03-30|\n",
      "|168551179|    P|23485496|2017-03-30|\n",
      "|168550572|    P| 4297299|2017-03-30|\n",
      "|168551156|    P|  237508|2017-03-30|\n",
      "|168548099|    P| 4984002|2017-03-30|\n",
      "|168549973|    P| 3194852|2017-03-30|\n",
      "|168548682|    P| 6751795|2017-03-30|\n",
      "|168549948|    P|23082492|2017-03-30|\n",
      "|168551120|    P|22858485|2017-03-30|\n",
      "|168549973|    P| 6461995|2017-03-30|\n",
      "|168548972|    P|22923154|2017-03-30|\n",
      "|168551599|    P| 8131487|2017-03-30|\n",
      "|168551097|    P|23491653|2017-03-30|\n",
      "|168551417|    P| 6686174|2017-03-30|\n",
      "|168551576|    P| 3971731|2017-03-30|\n",
      "|168549643|    P|  848918|2017-03-30|\n",
      "|168549973|    P|  252181|2017-03-30|\n",
      "+---------+-----+--------+----------+\n",
      "only showing top 20 rows\n",
      "\n"
     ]
    }
   ],
   "source": [
    "df.show()"
   ]
  },
  {
   "cell_type": "code",
   "execution_count": 7,
   "metadata": {},
   "outputs": [
    {
     "data": {
      "text/plain": [
       "DataFrame[uid: string, event: string, song_id: string, date: date]"
      ]
     },
     "execution_count": 7,
     "metadata": {},
     "output_type": "execute_result"
    }
   ],
   "source": [
    "# create new or overwrite original field with withColumn\n",
    "df = df.withColumn('date',F.col('date').cast('date'))\n",
    "df"
   ]
  },
  {
   "cell_type": "markdown",
   "metadata": {},
   "source": [
    "# Some exploration"
   ]
  },
  {
   "cell_type": "code",
   "execution_count": 8,
   "metadata": {},
   "outputs": [
    {
     "data": {
      "text/plain": [
       "12394615"
      ]
     },
     "execution_count": 8,
     "metadata": {},
     "output_type": "execute_result"
    }
   ],
   "source": [
    "# simple count rows\n",
    "df.count()"
   ]
  },
  {
   "cell_type": "code",
   "execution_count": 9,
   "metadata": {},
   "outputs": [
    {
     "data": {
      "text/plain": [
       "59484"
      ]
     },
     "execution_count": 9,
     "metadata": {},
     "output_type": "execute_result"
    }
   ],
   "source": [
    "# select operation, count distinct rows\n",
    "df.select('uid').distinct().count()"
   ]
  },
  {
   "cell_type": "code",
   "execution_count": 10,
   "metadata": {},
   "outputs": [
    {
     "name": "stdout",
     "output_type": "stream",
     "text": [
      "+-----+--------+\n",
      "|event|   count|\n",
      "+-----+--------+\n",
      "|    D|  632621|\n",
      "|    S|  769092|\n",
      "|    P|10992902|\n",
      "+-----+--------+\n",
      "\n"
     ]
    }
   ],
   "source": [
    "# group by aggregation\n",
    "df.groupBy('event').count().show()"
   ]
  },
  {
   "cell_type": "code",
   "execution_count": 11,
   "metadata": {},
   "outputs": [
    {
     "name": "stdout",
     "output_type": "stream",
     "text": [
      "+-----+--------+--------+\n",
      "|event|   count| max_uid|\n",
      "+-----+--------+--------+\n",
      "|    D|  632621|98137955|\n",
      "|    S|  769092|98137955|\n",
      "|    P|10992902|99995513|\n",
      "+-----+--------+--------+\n",
      "\n"
     ]
    }
   ],
   "source": [
    "# group by aggregation, more general (count, min, max, mean), multiple at once\n",
    "df.groupBy('event').agg(\n",
    "    F.count(F.col('uid')).alias('count'), \n",
    "    F.max(F.col('uid')).alias('max_uid')\n",
    ").show()"
   ]
  },
  {
   "cell_type": "code",
   "execution_count": 12,
   "metadata": {},
   "outputs": [
    {
     "name": "stdout",
     "output_type": "stream",
     "text": [
      "+----------+-----+------+\n",
      "|      date|event| count|\n",
      "+----------+-----+------+\n",
      "|2017-04-01|    D| 36536|\n",
      "|2017-04-01|    P|484844|\n",
      "|2017-04-01|    S| 33326|\n",
      "|2017-04-02|    D| 24487|\n",
      "|2017-04-02|    P|437980|\n",
      "|2017-04-02|    S| 31142|\n",
      "|2017-04-03|    D| 17848|\n",
      "|2017-04-03|    P|245248|\n",
      "|2017-04-03|    S| 26267|\n",
      "|2017-04-04|    D| 20110|\n",
      "|2017-04-04|    P|384953|\n",
      "|2017-04-04|    S| 25241|\n",
      "|2017-04-05|    D| 17344|\n",
      "|2017-04-05|    P|310803|\n",
      "|2017-04-05|    S| 19440|\n",
      "+----------+-----+------+\n",
      "\n"
     ]
    }
   ],
   "source": [
    "# filter operation\n",
    "# group by aggregation\n",
    "# order by operation\n",
    "df.filter((F.col('date') >= '2017-04-01') & (F.col('date') <= '2017-04-05')) \\\n",
    "    .groupBy('date','event').count() \\\n",
    "    .orderBy('date','event').show()"
   ]
  },
  {
   "cell_type": "code",
   "execution_count": 13,
   "metadata": {},
   "outputs": [],
   "source": [
    "date_count = df.groupBy('date').count().toPandas()"
   ]
  },
  {
   "cell_type": "code",
   "execution_count": 14,
   "metadata": {},
   "outputs": [
    {
     "data": {
      "text/plain": [
       "(array([736419., 736426., 736433., 736440., 736447., 736454., 736461.]),\n",
       " <a list of 7 Text xticklabel objects>)"
      ]
     },
     "execution_count": 14,
     "metadata": {},
     "output_type": "execute_result"
    },
    {
     "data": {
      "image/png": "[encoded data removed]",
      "text/plain": [
       "<matplotlib.figure.Figure at 0x1117f2fd0>"
      ]
     },
     "metadata": {},
     "output_type": "display_data"
    }
   ],
   "source": [
    "date_count = df.groupBy('date').count().toPandas()\n",
    "plt.bar(date_count['date'],date_count['count'])\n",
    "plt.xticks(rotation='vertical')\n",
    "# plt.locator_params(axis='x',nbins=7)"
   ]
  },
  {
   "cell_type": "markdown",
   "metadata": {},
   "source": [
    "# Label definition"
   ]
  },
  {
   "cell_type": "code",
   "execution_count": 15,
   "metadata": {},
   "outputs": [
    {
     "name": "stdout",
     "output_type": "stream",
     "text": [
      "label window: 2017-04-29 ~ 2017-05-12 days: 14\n",
      "feature window: 2017-03-30 ~ 2017-04-28 days: 30\n"
     ]
    }
   ],
   "source": [
    "import datetime\n",
    "from dateutil import parser\n",
    "\n",
    "label_window_size = 14\n",
    "label_window_end_date = parser.parse('2017-05-12').date()\n",
    "label_window_start_date = label_window_end_date - datetime.timedelta(label_window_size-1)\n",
    "print('label window:',label_window_start_date,'~',label_window_end_date,'days:',label_window_size)\n",
    "\n",
    "feature_window_size = 30\n",
    "feature_window_end_date = label_window_start_date - datetime.timedelta(1)\n",
    "feature_window_start_date = feature_window_end_date  - datetime.timedelta(feature_window_size - 1)\n",
    "print('feature window:',feature_window_start_date,'~',feature_window_end_date,'days:',feature_window_size)"
   ]
  },
  {
   "cell_type": "code",
   "execution_count": 16,
   "metadata": {},
   "outputs": [],
   "source": [
    "# all the uid we will model\n",
    "df_model_uid = df.filter((F.col('date') >= feature_window_start_date) & \\\n",
    "                        (F.col('date') <= feature_window_end_date)) \\\n",
    "                        .select('uid').distinct()\n",
    "\n",
    "# active in label window (active label=0)\n",
    "df_active_uid_in_label_window = df.filter((F.col('date') >= label_window_start_date) & \\\n",
    "                                         (F.col('date') <= label_window_end_date)) \\\n",
    "                                        .select('uid').distinct().withColumn('label', F.lit(0))\n"
   ]
  },
  {
   "cell_type": "code",
   "execution_count": 17,
   "metadata": {},
   "outputs": [
    {
     "data": {
      "text/plain": [
       "(Row(uid='168546261'), Row(uid='168052997', label=0))"
      ]
     },
     "execution_count": 17,
     "metadata": {},
     "output_type": "execute_result"
    }
   ],
   "source": [
    "df_model_uid.head(), df_active_uid_in_label_window.head()"
   ]
  },
  {
   "cell_type": "code",
   "execution_count": 18,
   "metadata": {},
   "outputs": [],
   "source": [
    "# prepare label data (churn label=1; active label=0)\n",
    "df_label = df_model_uid.join(df_active_uid_in_label_window, on=['uid'],how='left')\n",
    "df_label = df_label.fillna(1)"
   ]
  },
  {
   "cell_type": "code",
   "execution_count": 19,
   "metadata": {},
   "outputs": [
    {
     "name": "stdout",
     "output_type": "stream",
     "text": [
      "+-----+-----+\n",
      "|label|count|\n",
      "+-----+-----+\n",
      "|    1|36129|\n",
      "|    0|22066|\n",
      "+-----+-----+\n",
      "\n"
     ]
    }
   ],
   "source": [
    "df_label.groupBy('label').count().show()"
   ]
  },
  {
   "cell_type": "markdown",
   "metadata": {},
   "source": [
    "# Feature generation"
   ]
  },
  {
   "cell_type": "code",
   "execution_count": 20,
   "metadata": {},
   "outputs": [],
   "source": [
    "# event_data in feature_window\n",
    "df_feature_window = df.filter((F.col('date') >= feature_window_start_date) & \\\n",
    "                             (F.col('date') <= feature_window_end_date))"
   ]
  },
  {
   "cell_type": "markdown",
   "metadata": {},
   "source": [
    "## Frequency features"
   ]
  },
  {
   "cell_type": "markdown",
   "metadata": {},
   "source": [
    "#### method 1"
   ]
  },
  {
   "cell_type": "code",
   "execution_count": 21,
   "metadata": {},
   "outputs": [],
   "source": [
    "# define a function to generate frequency features\n",
    "def frequency_feature_generation(df, event, time_window, snapshot_date): \n",
    "    \"\"\"\n",
    "    generate frequency features for one event type and one time window\n",
    "    \"\"\"\n",
    "    df_feature = df.filter(F.col('event') == event) \\\n",
    "                .filter((F.col('date') >= snapshot_date - datetime.timedelta(time_window-1)) & (F.col('date') <= snapshot_date)) \\\n",
    "                .groupBy('uid').agg(\n",
    "                    F.count(F.col('uid')).alias('freq_'+event+'_last_'+str(time_window))\n",
    "                )\n",
    "    return df_feature"
   ]
  },
  {
   "cell_type": "code",
   "execution_count": 22,
   "metadata": {},
   "outputs": [
    {
     "name": "stdout",
     "output_type": "stream",
     "text": [
      "+---------+-------------+\n",
      "|      uid|freq_S_last_3|\n",
      "+---------+-------------+\n",
      "|167762174|            1|\n",
      "|167638754|            4|\n",
      "|167677091|            1|\n",
      "|168515885|            1|\n",
      "|168345548|            1|\n",
      "+---------+-------------+\n",
      "only showing top 5 rows\n",
      "\n"
     ]
    }
   ],
   "source": [
    "# experiment cell\n",
    "event = 'S'\n",
    "time_window = 3\n",
    "snapshot_date = feature_window_end_date\n",
    "frequency_feature_generation(df_feature_window,event,time_window,snapshot_date).show(5)"
   ]
  },
  {
   "cell_type": "code",
   "execution_count": 23,
   "metadata": {},
   "outputs": [],
   "source": [
    "# generate frequency features for all event_list, time_window_list\n",
    "event_list = ['P','D','S']\n",
    "time_window_list = [1,3,7,14,30]\n",
    "df_feature_list = []\n",
    "for event in event_list:\n",
    "    for time_window in time_window_list:\n",
    "        df_feature_list.append(frequency_feature_generation(df_feature_window,event,time_window,snapshot_date))"
   ]
  },
  {
   "cell_type": "code",
   "execution_count": 24,
   "metadata": {},
   "outputs": [
    {
     "data": {
      "text/plain": [
       "[DataFrame[uid: string, freq_P_last_1: bigint],\n",
       " DataFrame[uid: string, freq_P_last_3: bigint],\n",
       " DataFrame[uid: string, freq_P_last_7: bigint],\n",
       " DataFrame[uid: string, freq_P_last_14: bigint],\n",
       " DataFrame[uid: string, freq_P_last_30: bigint],\n",
       " DataFrame[uid: string, freq_D_last_1: bigint],\n",
       " DataFrame[uid: string, freq_D_last_3: bigint],\n",
       " DataFrame[uid: string, freq_D_last_7: bigint],\n",
       " DataFrame[uid: string, freq_D_last_14: bigint],\n",
       " DataFrame[uid: string, freq_D_last_30: bigint],\n",
       " DataFrame[uid: string, freq_S_last_1: bigint],\n",
       " DataFrame[uid: string, freq_S_last_3: bigint],\n",
       " DataFrame[uid: string, freq_S_last_7: bigint],\n",
       " DataFrame[uid: string, freq_S_last_14: bigint],\n",
       " DataFrame[uid: string, freq_S_last_30: bigint]]"
      ]
     },
     "execution_count": 24,
     "metadata": {},
     "output_type": "execute_result"
    }
   ],
   "source": [
    "df_feature_list"
   ]
  },
  {
   "cell_type": "markdown",
   "metadata": {},
   "source": [
    "#### method 2. reduce # of dfs to join"
   ]
  },
  {
   "cell_type": "code",
   "execution_count": 25,
   "metadata": {},
   "outputs": [],
   "source": [
    "# define a function to generate frequency features for a list of time windows\n",
    "# using when().otherwise(), and list comprehension trick!\n",
    "def frequency_feature_generation_time_windows(df,event,time_window_list,snapshot_date):\n",
    "    \"\"\"\n",
    "    generate frequency features for one event type and a list of time windows\n",
    "    \"\"\"\n",
    "    df_feature = df \\\n",
    "        .filter(F.col('event')==event) \\\n",
    "        .groupBy('uid') \\\n",
    "        .agg(*[F.sum(F.when((F.col('date')>=snapshot_date-datetime.timedelta(time_window-1)) & (F.col('date')<=snapshot_date),1).otherwise(0)).alias('freq_'+event+'_last_'+str(time_window)) \\\n",
    "                for time_window in time_window_list]\n",
    "            )# *[] opens list and make them comma separated\n",
    "    return df_feature"
   ]
  },
  {
   "cell_type": "code",
   "execution_count": 26,
   "metadata": {},
   "outputs": [
    {
     "name": "stdout",
     "output_type": "stream",
     "text": [
      "+---------+-------------+-------------+-------------+--------------+--------------+\n",
      "|      uid|freq_S_last_1|freq_S_last_3|freq_S_last_7|freq_S_last_14|freq_S_last_30|\n",
      "+---------+-------------+-------------+-------------+--------------+--------------+\n",
      "|168000255|            0|            0|           51|            68|            72|\n",
      "|167918050|            0|            0|            0|             0|            40|\n",
      "|167878077|            0|            0|            0|             0|            15|\n",
      "|168032246|            0|            0|            0|             0|            18|\n",
      "|167677091|            0|            1|            7|            10|            12|\n",
      "+---------+-------------+-------------+-------------+--------------+--------------+\n",
      "only showing top 5 rows\n",
      "\n"
     ]
    }
   ],
   "source": [
    "# generate one event type, all time windows \n",
    "event = 'S'\n",
    "time_window_list = [1,3,7,14,30]\n",
    "snapshot_date = feature_window_end_date\n",
    "df_feature = frequency_feature_generation_time_windows(df_feature_window,event,time_window_list,snapshot_date)\n",
    "df_feature.show(5)"
   ]
  },
  {
   "cell_type": "code",
   "execution_count": 27,
   "metadata": {},
   "outputs": [],
   "source": [
    "# generate frequency features for all event_list, time_window_list\n",
    "event_list = ['P','D','S']\n",
    "time_window_list = [1,3,7,14,30]\n",
    "df_feature_list = []\n",
    "for event in event_list:\n",
    "    df_feature_list.append(frequency_feature_generation_time_windows(df_feature_window,event,time_window_list,snapshot_date))"
   ]
  },
  {
   "cell_type": "markdown",
   "metadata": {},
   "source": [
    "### Recency features"
   ]
  },
  {
   "cell_type": "code",
   "execution_count": 28,
   "metadata": {},
   "outputs": [
    {
     "name": "stdout",
     "output_type": "stream",
     "text": [
      "+---------+-----+--------+----------+\n",
      "|      uid|event| song_id|      date|\n",
      "+---------+-----+--------+----------+\n",
      "|168551248|    P|21393368|2017-03-30|\n",
      "|168551026|    P|19477157|2017-03-30|\n",
      "|168551417|    P|  727161|2017-03-30|\n",
      "|168551156|    P|  313037|2017-03-30|\n",
      "|168551179|    P|23485496|2017-03-30|\n",
      "+---------+-----+--------+----------+\n",
      "only showing top 5 rows\n",
      "\n"
     ]
    }
   ],
   "source": [
    "df.show(5)"
   ]
  },
  {
   "cell_type": "code",
   "execution_count": 29,
   "metadata": {},
   "outputs": [],
   "source": [
    "# defined as days from last event\n",
    "# can generate one feature for each type of event\n",
    "def recency_feature_generation(df, event, snapshot_date):\n",
    "    \"\"\"\n",
    "    defined as days from last event, generate one feature for each type of event\n",
    "    \"\"\"\n",
    "    df_feature = df.filter(F.col('event')==event)\\\n",
    "                .withColumn('feature_window_end_date',F.lit(feature_window_end_date)) \\\n",
    "                .withColumn('length', F.datediff(F.col('feature_window_end_date'),F.col('date'))) \\\n",
    "                .groupBy('uid') \\\n",
    "                .agg(F.min(F.col('length')).alias('last_'+event+'_from_now'))\n",
    "    return df_feature"
   ]
  },
  {
   "cell_type": "code",
   "execution_count": 30,
   "metadata": {
    "scrolled": true
   },
   "outputs": [
    {
     "name": "stdout",
     "output_type": "stream",
     "text": [
      "+---------+---------------+\n",
      "|      uid|last_S_from_now|\n",
      "+---------+---------------+\n",
      "|168000255|              3|\n",
      "|167918050|             29|\n",
      "|167878077|             23|\n",
      "|168032246|             17|\n",
      "|167677091|              2|\n",
      "|167839954|             13|\n",
      "|168207362|              1|\n",
      "|168314388|              0|\n",
      "|168367409|              4|\n",
      "|168493545|              1|\n",
      "|168398966|             29|\n",
      "|168483803|             28|\n",
      "|168320140|             18|\n",
      "|168480574|             10|\n",
      "|168059089|              7|\n",
      "|168559090|             11|\n",
      "|168514801|              5|\n",
      "|168384172|             26|\n",
      "|168305330|              0|\n",
      "|168541400|             29|\n",
      "+---------+---------------+\n",
      "only showing top 20 rows\n",
      "\n"
     ]
    }
   ],
   "source": [
    "event = 'S'\n",
    "snapshot_date = feature_window_end_date\n",
    "recency_feature_generation(df_feature_window,event,snapshot_date).show()"
   ]
  },
  {
   "cell_type": "code",
   "execution_count": 31,
   "metadata": {},
   "outputs": [],
   "source": [
    "event_list = ['P', 'S', 'D']\n",
    "snapshot_date = feature_window_end_date\n",
    "for event in event_list:\n",
    "    df_feature_list.append(recency_feature_generation(df_feature_window,event,snapshot_date))"
   ]
  },
  {
   "cell_type": "code",
   "execution_count": 32,
   "metadata": {},
   "outputs": [
    {
     "name": "stdout",
     "output_type": "stream",
     "text": [
      "+---------+-----+--------+----------+\n",
      "|      uid|event| song_id|      date|\n",
      "+---------+-----+--------+----------+\n",
      "|168551248|    P|21393368|2017-03-30|\n",
      "|168551026|    P|19477157|2017-03-30|\n",
      "|168551417|    P|  727161|2017-03-30|\n",
      "|168551156|    P|  313037|2017-03-30|\n",
      "|168551179|    P|23485496|2017-03-30|\n",
      "+---------+-----+--------+----------+\n",
      "only showing top 5 rows\n",
      "\n"
     ]
    }
   ],
   "source": [
    "df.show(5)"
   ]
  },
  {
   "cell_type": "markdown",
   "metadata": {},
   "source": [
    "### Life length feature"
   ]
  },
  {
   "cell_type": "code",
   "execution_count": 33,
   "metadata": {},
   "outputs": [],
   "source": [
    "def life_length_feature_generation(df, snapshot_date):\n",
    "    df_feature = df.withColumn('feature_window_end_date',F.lit(feature_window_end_date)) \\\n",
    "                .withColumn('length', F.datediff(F.col('feature_window_end_date'),F.col('date'))+1) \\\n",
    "                .groupBy('uid') \\\n",
    "                .agg(F.max(F.col('length')).alias('user_life_length'))\n",
    "    return df_feature"
   ]
  },
  {
   "cell_type": "code",
   "execution_count": 34,
   "metadata": {},
   "outputs": [],
   "source": [
    "snapshot_date = feature_window_end_date\n",
    "df_feature_list.append(life_length_feature_generation(df_feature_window,snapshot_date))"
   ]
  },
  {
   "cell_type": "code",
   "execution_count": 35,
   "metadata": {},
   "outputs": [
    {
     "data": {
      "text/plain": [
       "[DataFrame[uid: string, freq_P_last_1: bigint, freq_P_last_3: bigint, freq_P_last_7: bigint, freq_P_last_14: bigint, freq_P_last_30: bigint],\n",
       " DataFrame[uid: string, freq_D_last_1: bigint, freq_D_last_3: bigint, freq_D_last_7: bigint, freq_D_last_14: bigint, freq_D_last_30: bigint],\n",
       " DataFrame[uid: string, freq_S_last_1: bigint, freq_S_last_3: bigint, freq_S_last_7: bigint, freq_S_last_14: bigint, freq_S_last_30: bigint],\n",
       " DataFrame[uid: string, last_P_from_now: int],\n",
       " DataFrame[uid: string, last_S_from_now: int],\n",
       " DataFrame[uid: string, last_D_from_now: int],\n",
       " DataFrame[uid: string, user_life_length: int]]"
      ]
     },
     "execution_count": 35,
     "metadata": {},
     "output_type": "execute_result"
    }
   ],
   "source": [
    "df_feature_list"
   ]
  },
  {
   "cell_type": "markdown",
   "metadata": {},
   "source": [
    "### User profile feature"
   ]
  },
  {
   "cell_type": "code",
   "execution_count": 36,
   "metadata": {},
   "outputs": [],
   "source": [
    "df_p = spark.read.csv('../data/play_ds.csv', header=True).cache()\n",
    "df_d = spark.read.csv('../data/down_ds.csv', header=True).cache()\n",
    "df_s = spark.read.csv('../data/search_ds.csv', header=True).cache()"
   ]
  },
  {
   "cell_type": "code",
   "execution_count": 37,
   "metadata": {},
   "outputs": [
    {
     "name": "stdout",
     "output_type": "stream",
     "text": [
      "+---------+------+--------+----------+---------+-----------+\n",
      "|      uid|device| song_id|      date|play_time|song_length|\n",
      "+---------+------+--------+----------+---------+-----------+\n",
      "|168551248|    ip|21393368|2017-03-30|       87|         87|\n",
      "|168551026|    ar|19477157|2017-03-30|        2|         31|\n",
      "|168551417|    ar|  727161|2017-03-30|       27|        226|\n",
      "|168551156|    ar|  313037|2017-03-30|        0|        274|\n",
      "|168551179|    ar|23485496|2017-03-30|       26|        212|\n",
      "+---------+------+--------+----------+---------+-----------+\n",
      "only showing top 5 rows\n",
      "\n",
      "+---------+------+-------+----------+\n",
      "|      uid|device|song_id|      date|\n",
      "+---------+------+-------+----------+\n",
      "|168043780|    ar| 508093|2017-03-30|\n",
      "|160732524|    ar|4762774|2017-03-30|\n",
      "|167706660|    ar|6436984|2017-03-30|\n",
      "|168043780|    ar| 860743|2017-03-30|\n",
      "|168411725|    ip|1026368|2017-03-30|\n",
      "+---------+------+-------+----------+\n",
      "only showing top 5 rows\n",
      "\n",
      "+---------+------+----------+\n",
      "|      uid|device|      date|\n",
      "+---------+------+----------+\n",
      "|168411725|    ip|2017-03-30|\n",
      "|168043780|    ar|2017-03-30|\n",
      "|160732524|    ar|2017-03-30|\n",
      "|168053493|    ar|2017-03-30|\n",
      "|160732524|    ar|2017-03-30|\n",
      "+---------+------+----------+\n",
      "only showing top 5 rows\n",
      "\n"
     ]
    },
    {
     "data": {
      "text/plain": [
       "(None, None, None)"
      ]
     },
     "execution_count": 37,
     "metadata": {},
     "output_type": "execute_result"
    }
   ],
   "source": [
    "df_p.show(5), df_d.show(5), df_s.show(5)"
   ]
  },
  {
   "cell_type": "code",
   "execution_count": null,
   "metadata": {},
   "outputs": [],
   "source": [
    "# ip,ar,both\n",
    "# 暂时不执行，有时间的话可以考虑UDF，忽略null，分为只有iPhone，只有Android，都有，三种\n",
    "# df_p.select('uid',F.col('device').alias('device_p')) \\\n",
    "#     .join(df_d.select('uid', F.col('device').alias('device_d')),on='uid',how='full') \\\n",
    "#     .join(df_s.select('uid', F.col('device').alias('device_s')),on='uid',how='full').show(10)\n",
    "    "
   ]
  },
  {
   "cell_type": "code",
   "execution_count": 38,
   "metadata": {},
   "outputs": [
    {
     "name": "stdout",
     "output_type": "stream",
     "text": [
      "+---------+------+--------+----------+---------+-----------+\n",
      "|      uid|device| song_id|      date|play_time|song_length|\n",
      "+---------+------+--------+----------+---------+-----------+\n",
      "|168551248|    ip|21393368|2017-03-30|       87|         87|\n",
      "|168551026|    ar|19477157|2017-03-30|        2|         31|\n",
      "|168551417|    ar|  727161|2017-03-30|       27|        226|\n",
      "|168551156|    ar|  313037|2017-03-30|        0|        274|\n",
      "|168551179|    ar|23485496|2017-03-30|       26|        212|\n",
      "+---------+------+--------+----------+---------+-----------+\n",
      "only showing top 5 rows\n",
      "\n"
     ]
    }
   ],
   "source": [
    "df_play = spark.read.csv('../data/play_ds.csv',header=True)\n",
    "df_play.show(5)"
   ]
  },
  {
   "cell_type": "code",
   "execution_count": 39,
   "metadata": {},
   "outputs": [],
   "source": [
    "df_play_feature_window = df_play.filter((F.col('date')>=feature_window_start_date) & (F.col('date')<=feature_window_end_date))\n",
    "df_profile_tmp = df_play_feature_window.select('uid','device').distinct()"
   ]
  },
  {
   "cell_type": "code",
   "execution_count": 40,
   "metadata": {},
   "outputs": [
    {
     "name": "stdout",
     "output_type": "stream",
     "text": [
      "+------+-----+\n",
      "|device|count|\n",
      "+------+-----+\n",
      "|    ar|50783|\n",
      "|    wp|    1|\n",
      "|    ip| 7256|\n",
      "+------+-----+\n",
      "\n"
     ]
    }
   ],
   "source": [
    "df_profile_tmp.groupBy('device').count().show()"
   ]
  },
  {
   "cell_type": "code",
   "execution_count": 41,
   "metadata": {},
   "outputs": [
    {
     "data": {
      "text/plain": [
       "(58040, 58040)"
      ]
     },
     "execution_count": 41,
     "metadata": {},
     "output_type": "execute_result"
    }
   ],
   "source": [
    "# check if one user has two devices\n",
    "df_profile_tmp.count(), df_profile_tmp.distinct().count()"
   ]
  },
  {
   "cell_type": "code",
   "execution_count": 42,
   "metadata": {},
   "outputs": [
    {
     "name": "stdout",
     "output_type": "stream",
     "text": [
      "+-----------+-----+\n",
      "|device_type|count|\n",
      "+-----------+-----+\n",
      "|          1| 7256|\n",
      "|          3|    1|\n",
      "|          2|50783|\n",
      "+-----------+-----+\n",
      "\n"
     ]
    }
   ],
   "source": [
    "df_profile_tmp = df_profile_tmp.withColumn('device_type',F.when(F.col('device')=='ip',1).when(F.col('device')=='ar', 2).otherwise(3))\n",
    "df_profile_tmp.groupBy('device_type').count().show()"
   ]
  },
  {
   "cell_type": "code",
   "execution_count": 43,
   "metadata": {},
   "outputs": [
    {
     "name": "stdout",
     "output_type": "stream",
     "text": [
      "+-----------+-----+\n",
      "|device_type|count|\n",
      "+-----------+-----+\n",
      "|       null|  172|\n",
      "|          1| 7256|\n",
      "|          3|    1|\n",
      "|          2|50783|\n",
      "+-----------+-----+\n",
      "\n"
     ]
    }
   ],
   "source": [
    "df_profile = df_label.select('uid').join(df_profile_tmp.select('uid','device_type'),on='uid',how='left')\n",
    "df_profile.groupBy('device_type').count().show()"
   ]
  },
  {
   "cell_type": "markdown",
   "metadata": {},
   "source": [
    "### Total play time features"
   ]
  },
  {
   "cell_type": "code",
   "execution_count": 44,
   "metadata": {},
   "outputs": [],
   "source": [
    "# Can you generate total song play time features (using play_ds data) for different time window\n",
    "# using play data (need to clean play time first, play time may be negative in data)"
   ]
  },
  {
   "cell_type": "code",
   "execution_count": 45,
   "metadata": {
    "scrolled": true
   },
   "outputs": [
    {
     "name": "stdout",
     "output_type": "stream",
     "text": [
      "+---------+------+--------+----------+---------+-----------+\n",
      "|      uid|device| song_id|      date|play_time|song_length|\n",
      "+---------+------+--------+----------+---------+-----------+\n",
      "|168551248|    ip|21393368|2017-03-30|       87|         87|\n",
      "|168551026|    ar|19477157|2017-03-30|        2|         31|\n",
      "|168551417|    ar|  727161|2017-03-30|       27|        226|\n",
      "|168551156|    ar|  313037|2017-03-30|        0|        274|\n",
      "|168551179|    ar|23485496|2017-03-30|       26|        212|\n",
      "|168550572|    ar| 4297299|2017-03-30|       11|        272|\n",
      "|168551156|    ar|  237508|2017-03-30|        0|        304|\n",
      "|168548099|    ar| 4984002|2017-03-30|      210|        210|\n",
      "|168549973|    ip| 3194852|2017-03-30|        3|        644|\n",
      "|168548682|    ar| 6751795|2017-03-30|       14|       3639|\n",
      "+---------+------+--------+----------+---------+-----------+\n",
      "only showing top 10 rows\n",
      "\n"
     ]
    }
   ],
   "source": [
    "df_play_feature_window.show(10)"
   ]
  },
  {
   "cell_type": "markdown",
   "metadata": {},
   "source": [
    "#### Clean play time data"
   ]
  },
  {
   "cell_type": "code",
   "execution_count": 46,
   "metadata": {},
   "outputs": [
    {
     "data": {
      "text/plain": [
       "(645218, 54)"
      ]
     },
     "execution_count": 46,
     "metadata": {},
     "output_type": "execute_result"
    }
   ],
   "source": [
    "df_play_feature_window.filter(F.col('song_length') <= 0).count(), df_play_feature_window.filter(F.col('song_length').isNull()).count()"
   ]
  },
  {
   "cell_type": "code",
   "execution_count": 47,
   "metadata": {},
   "outputs": [
    {
     "data": {
      "text/plain": [
       "8344811"
      ]
     },
     "execution_count": 47,
     "metadata": {},
     "output_type": "execute_result"
    }
   ],
   "source": [
    "df_play_feature_window.count()"
   ]
  },
  {
   "cell_type": "code",
   "execution_count": 48,
   "metadata": {},
   "outputs": [],
   "source": [
    "# missing data imputation with median\n",
    "# set negative value to na, then fillna\n",
    "df_play_feature_window = df_play_feature_window.withColumn('song_length', F.when(F.col('song_length')>0, F.col('song_length'))) "
   ]
  },
  {
   "cell_type": "code",
   "execution_count": 49,
   "metadata": {},
   "outputs": [],
   "source": [
    "mean_song_length = round(df_play_feature_window.filter(~F.col('song_length').isNull()) \\\n",
    "                        .select(F.mean('song_length')).head()[0], 2)"
   ]
  },
  {
   "cell_type": "code",
   "execution_count": 50,
   "metadata": {},
   "outputs": [],
   "source": [
    "df_play_feature_window = df_play_feature_window.withColumn('song_length', F.when(F.col('song_length').isNull(), mean_song_length).otherwise(F.col('song_length'))) "
   ]
  },
  {
   "cell_type": "code",
   "execution_count": 51,
   "metadata": {},
   "outputs": [
    {
     "data": {
      "text/plain": [
       "(1546526, 1618)"
      ]
     },
     "execution_count": 51,
     "metadata": {},
     "output_type": "execute_result"
    }
   ],
   "source": [
    "df_play_feature_window.filter(F.col('play_time') <= 0).count(), df_play_feature_window.filter(F.col('play_time').isNull()).count()"
   ]
  },
  {
   "cell_type": "code",
   "execution_count": 52,
   "metadata": {},
   "outputs": [],
   "source": [
    "df_play_feature_window = df_play_feature_window.withColumn('play_time', F.when(F.col('play_time')>0, F.col('play_time'))) "
   ]
  },
  {
   "cell_type": "code",
   "execution_count": 53,
   "metadata": {},
   "outputs": [],
   "source": [
    "mean_play_time = round(df_play_feature_window.filter(~F.col('play_time').isNull()) \\\n",
    "                        .select(F.mean('play_time')).head()[0], 2)"
   ]
  },
  {
   "cell_type": "code",
   "execution_count": 54,
   "metadata": {},
   "outputs": [
    {
     "data": {
      "text/plain": [
       "'99999'"
      ]
     },
     "execution_count": 54,
     "metadata": {},
     "output_type": "execute_result"
    }
   ],
   "source": [
    "df_play_feature_window.filter(~F.col('play_time').isNull()) \\\n",
    "                        .select(F.max('play_time')).head()[0]"
   ]
  },
  {
   "cell_type": "code",
   "execution_count": 55,
   "metadata": {},
   "outputs": [],
   "source": [
    "df_play_feature_window = df_play_feature_window.withColumn('play_time', F.when(F.col('play_time').isNull(), mean_play_time).otherwise(F.col('play_time'))) "
   ]
  },
  {
   "cell_type": "code",
   "execution_count": 56,
   "metadata": {},
   "outputs": [
    {
     "name": "stdout",
     "output_type": "stream",
     "text": [
      "+---------+------+--------+----------+---------+-----------+\n",
      "|      uid|device| song_id|      date|play_time|song_length|\n",
      "+---------+------+--------+----------+---------+-----------+\n",
      "|168551248|    ip|21393368|2017-03-30|       87|         87|\n",
      "|168551026|    ar|19477157|2017-03-30|        2|         31|\n",
      "|168551417|    ar|  727161|2017-03-30|       27|        226|\n",
      "|168551156|    ar|  313037|2017-03-30|  3144.38|        274|\n",
      "|168551179|    ar|23485496|2017-03-30|       26|        212|\n",
      "|168550572|    ar| 4297299|2017-03-30|       11|        272|\n",
      "|168551156|    ar|  237508|2017-03-30|  3144.38|        304|\n",
      "|168548099|    ar| 4984002|2017-03-30|      210|        210|\n",
      "|168549973|    ip| 3194852|2017-03-30|        3|        644|\n",
      "|168548682|    ar| 6751795|2017-03-30|       14|       3639|\n",
      "+---------+------+--------+----------+---------+-----------+\n",
      "only showing top 10 rows\n",
      "\n"
     ]
    }
   ],
   "source": [
    "df_play_feature_window.show(10)"
   ]
  },
  {
   "cell_type": "markdown",
   "metadata": {},
   "source": [
    "### total play time features generation"
   ]
  },
  {
   "cell_type": "code",
   "execution_count": 57,
   "metadata": {},
   "outputs": [],
   "source": [
    "def play_time_feature_generation(df,time_window,snapshot_date):\n",
    "    df_feature = df.filter((F.col('date')>=snapshot_date-datetime.timedelta(time_window-1)) & (F.col('date')<=snapshot_date)) \\\n",
    "                    .withColumn('play_times_a_song', F.col('play_time')/F.col('song_length')) \\\n",
    "                    .groupBy('uid').agg(F.sum('play_times_a_song').alias('total_play_times_'+str(time_window)))\n",
    "#                     .groupBy('uid', 'song_id')\n",
    "#     .agg(F.sum('play_time').alias('total_play_time_a_song'))\n",
    "    return df_feature    "
   ]
  },
  {
   "cell_type": "code",
   "execution_count": 58,
   "metadata": {},
   "outputs": [
    {
     "name": "stdout",
     "output_type": "stream",
     "text": [
      "+---------+------------------+\n",
      "|      uid|total_play_times_3|\n",
      "+---------+------------------+\n",
      "|167739296| 44.29557709183294|\n",
      "|167833570| 158.4982782107372|\n",
      "|167691486|39.110213989275344|\n",
      "|167762965|202.57578718944404|\n",
      "|168000255| 61.03064949415315|\n",
      "|167762174|101.20369962151672|\n",
      "|167638754|123.14514897741455|\n",
      "|168032246|22.249398302307654|\n",
      "|167949147|32.202246258304946|\n",
      "|167640598|14.310456629072451|\n",
      "|167636194|21.501037662210788|\n",
      "|167677091|28.837060702875398|\n",
      "|167969540| 5.072072072072072|\n",
      "|167909036| 66.25919021379988|\n",
      "|167781195| 20.92216224508587|\n",
      "|168493545|102.95556685776153|\n",
      "|168346022| 0.946843853820598|\n",
      "|168437862|236.41457587040392|\n",
      "|168187972|31.230777911991876|\n",
      "|168349586| 6.961674827882694|\n",
      "+---------+------------------+\n",
      "only showing top 20 rows\n",
      "\n"
     ]
    }
   ],
   "source": [
    "time_window = 3\n",
    "snapshot_date = feature_window_end_date\n",
    "play_time_feature_generation(df_play_feature_window,time_window,snapshot_date).show()"
   ]
  },
  {
   "cell_type": "code",
   "execution_count": 59,
   "metadata": {},
   "outputs": [],
   "source": [
    "time_window_list = [1,3,7,14,30]\n",
    "for time_window in time_window_list:\n",
    "    df_feature_list.append(play_time_feature_generation(df_play_feature_window,time_window,snapshot_date))"
   ]
  },
  {
   "cell_type": "code",
   "execution_count": 60,
   "metadata": {},
   "outputs": [
    {
     "data": {
      "text/plain": [
       "[DataFrame[uid: string, freq_P_last_1: bigint, freq_P_last_3: bigint, freq_P_last_7: bigint, freq_P_last_14: bigint, freq_P_last_30: bigint],\n",
       " DataFrame[uid: string, freq_D_last_1: bigint, freq_D_last_3: bigint, freq_D_last_7: bigint, freq_D_last_14: bigint, freq_D_last_30: bigint],\n",
       " DataFrame[uid: string, freq_S_last_1: bigint, freq_S_last_3: bigint, freq_S_last_7: bigint, freq_S_last_14: bigint, freq_S_last_30: bigint],\n",
       " DataFrame[uid: string, last_P_from_now: int],\n",
       " DataFrame[uid: string, last_S_from_now: int],\n",
       " DataFrame[uid: string, last_D_from_now: int],\n",
       " DataFrame[uid: string, user_life_length: int],\n",
       " DataFrame[uid: string, total_play_times_1: double],\n",
       " DataFrame[uid: string, total_play_times_3: double],\n",
       " DataFrame[uid: string, total_play_times_7: double],\n",
       " DataFrame[uid: string, total_play_times_14: double],\n",
       " DataFrame[uid: string, total_play_times_30: double]]"
      ]
     },
     "execution_count": 60,
     "metadata": {},
     "output_type": "execute_result"
    }
   ],
   "source": [
    "df_feature_list"
   ]
  },
  {
   "cell_type": "markdown",
   "metadata": {},
   "source": [
    "### Fancier frequency features, acceleration features"
   ]
  },
  {
   "cell_type": "markdown",
   "metadata": {},
   "source": [
    "## EDA with target"
   ]
  },
  {
   "cell_type": "markdown",
   "metadata": {},
   "source": [
    "## Form training data"
   ]
  },
  {
   "cell_type": "code",
   "execution_count": 61,
   "metadata": {},
   "outputs": [],
   "source": [
    "def join_feature_data(df_master, df_feature_list):\n",
    "    for df_feature in df_feature_list:\n",
    "        df_master = df_master.join(df_feature,on='uid',how='left')\n",
    "        df_master.persist()\n",
    "    return df_master        "
   ]
  },
  {
   "cell_type": "code",
   "execution_count": 62,
   "metadata": {},
   "outputs": [],
   "source": [
    "# join all behavior features\n",
    "df_model_final = join_feature_data(df_label,df_feature_list)"
   ]
  },
  {
   "cell_type": "code",
   "execution_count": 63,
   "metadata": {},
   "outputs": [],
   "source": [
    "# join all profile features\n",
    "df_model_final = join_feature_data(df_model_final,[df_profile])"
   ]
  },
  {
   "cell_type": "code",
   "execution_count": 64,
   "metadata": {},
   "outputs": [],
   "source": [
    "df_model_final.fillna(0).toPandas().to_csv('../data/df_model_final.csv',index=False)"
   ]
  },
  {
   "cell_type": "code",
   "execution_count": null,
   "metadata": {},
   "outputs": [],
   "source": []
  }
 ],
 "metadata": {
  "kernelspec": {
   "display_name": "Python 3",
   "language": "python",
   "name": "python3"
  },
  "language_info": {
   "codemirror_mode": {
    "name": "ipython",
    "version": 3
   },
   "file_extension": ".py",
   "mimetype": "text/x-python",
   "name": "python",
   "nbconvert_exporter": "python",
   "pygments_lexer": "ipython3",
   "version": "3.6.4"
  }
 },
 "nbformat": 4,
 "nbformat_minor": 2
}
