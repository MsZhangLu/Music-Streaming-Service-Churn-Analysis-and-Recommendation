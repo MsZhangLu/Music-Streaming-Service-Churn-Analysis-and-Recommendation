{
 "cells": [
  {
   "cell_type": "markdown",
   "metadata": {},
   "source": [
    "# Music Recommender (Python 2, GraphLab)"
   ]
  },
  {
   "cell_type": "code",
   "execution_count": 2,
   "metadata": {},
   "outputs": [],
   "source": [
    "import pandas as pd\n",
    "import numpy as np\n",
    "import matplotlib.pyplot as plt\n",
    "\n",
    "from scipy import sparse\n",
    "from sklearn.metrics.pairwise import cosine_similarity\n",
    "from time import time\n",
    "\n",
    "% matplotlib inline\n",
    "\n",
    "# plt.style.use(\"ggplot\")"
   ]
  },
  {
   "cell_type": "code",
   "execution_count": 3,
   "metadata": {
    "scrolled": true
   },
   "outputs": [],
   "source": [
    "df_rec_final = pd.read_csv('../data/df_rec_final.csv')"
   ]
  },
  {
   "cell_type": "markdown",
   "metadata": {},
   "source": [
    "### Down sample by uid\n",
    "too many records here. run out of memory."
   ]
  },
  {
   "cell_type": "code",
   "execution_count": 45,
   "metadata": {},
   "outputs": [
    {
     "data": {
      "text/plain": [
       "(57898,)"
      ]
     },
     "execution_count": 45,
     "metadata": {},
     "output_type": "execute_result"
    }
   ],
   "source": [
    "users = df_rec_final['uid'].unique()\n",
    "\n",
    "users.shape"
   ]
  },
  {
   "cell_type": "code",
   "execution_count": 89,
   "metadata": {},
   "outputs": [
    {
     "data": {
      "text/plain": [
       "(127468, 5)"
      ]
     },
     "execution_count": 89,
     "metadata": {},
     "output_type": "execute_result"
    }
   ],
   "source": [
    "selected_users = np.random.choice(users, size=2500, replace=False).tolist()\n",
    "\n",
    "df_rec = df_rec_final[df_rec_final['uid'].isin(selected_users)]\n",
    "\n",
    "df_rec.shape"
   ]
  },
  {
   "cell_type": "code",
   "execution_count": 90,
   "metadata": {},
   "outputs": [],
   "source": [
    "df_rec.reset_index(inplace=True, drop=True)"
   ]
  },
  {
   "cell_type": "code",
   "execution_count": 91,
   "metadata": {},
   "outputs": [
    {
     "name": "stderr",
     "output_type": "stream",
     "text": [
      "/Library/Frameworks/Python.framework/Versions/2.7/lib/python2.7/site-packages/ipykernel_launcher.py:4: SettingWithCopyWarning: \n",
      "A value is trying to be set on a copy of a slice from a DataFrame.\n",
      "Try using .loc[row_indexer,col_indexer] = value instead\n",
      "\n",
      "See the caveats in the documentation: http://pandas.pydata.org/pandas-docs/stable/indexing.html#indexing-view-versus-copy\n",
      "  after removing the cwd from sys.path.\n"
     ]
    }
   ],
   "source": [
    "df_rec['rating'] = np.where(df_rec['rela_freq_last_44']==0, 1, \n",
    "                           np.where(df_rec['rela_freq_last_44']==1, 2,\n",
    "                                   np.where(df_rec['rela_freq_last_44']<3, 3, \n",
    "                                           np.where(df_rec['rela_freq_last_44']<5, 4, 5))))"
   ]
  },
  {
   "cell_type": "code",
   "execution_count": 92,
   "metadata": {
    "scrolled": true
   },
   "outputs": [
    {
     "data": {
      "text/plain": [
       "<matplotlib.axes._subplots.AxesSubplot at 0x114fdea10>"
      ]
     },
     "execution_count": 92,
     "metadata": {},
     "output_type": "execute_result"
    },
    {
     "data": {
      "image/png": "[encoded data removed]",
      "text/plain": [
       "<matplotlib.figure.Figure at 0x114f957d0>"
      ]
     },
     "metadata": {},
     "output_type": "display_data"
    }
   ],
   "source": [
    "df_rec['rating'].value_counts().plot.bar()"
   ]
  },
  {
   "cell_type": "code",
   "execution_count": 93,
   "metadata": {},
   "outputs": [
    {
     "name": "stdout",
     "output_type": "stream",
     "text": [
      "<class 'pandas.core.frame.DataFrame'>\n",
      "RangeIndex: 127468 entries, 0 to 127467\n",
      "Data columns (total 3 columns):\n",
      "uid        127468 non-null int64\n",
      "song_id    127468 non-null int64\n",
      "rating     127468 non-null int64\n",
      "dtypes: int64(3)\n",
      "memory usage: 2.9 MB\n"
     ]
    }
   ],
   "source": [
    "df_rec = df_rec[['uid', 'song_id', 'rating']]\n",
    "\n",
    "df_rec.info()"
   ]
  },
  {
   "cell_type": "code",
   "execution_count": 94,
   "metadata": {},
   "outputs": [],
   "source": [
    "df_utility = pd.pivot_table(data=df_rec,\n",
    "                           values='rating',\n",
    "                           index='uid',\n",
    "                           columns='song_id',\n",
    "                           fill_value=0)"
   ]
  },
  {
   "cell_type": "code",
   "execution_count": 95,
   "metadata": {},
   "outputs": [
    {
     "data": {
      "text/plain": [
       "(2500,)"
      ]
     },
     "execution_count": 95,
     "metadata": {},
     "output_type": "execute_result"
    }
   ],
   "source": [
    "uid_list = df_utility.index\n",
    "\n",
    "uid_list.shape"
   ]
  },
  {
   "cell_type": "code",
   "execution_count": 96,
   "metadata": {},
   "outputs": [
    {
     "data": {
      "text/plain": [
       "(55323,)"
      ]
     },
     "execution_count": 96,
     "metadata": {},
     "output_type": "execute_result"
    }
   ],
   "source": [
    "item_id_list = df_utility.columns\n",
    "\n",
    "item_id_list.shape"
   ]
  },
  {
   "cell_type": "code",
   "execution_count": 97,
   "metadata": {},
   "outputs": [
    {
     "name": "stdout",
     "output_type": "stream",
     "text": [
      "<class 'pandas.core.frame.DataFrame'>\n",
      "Int64Index: 2500 entries, 3346080 to 169146102\n",
      "Columns: 55323 entries, 2065 to 24022934\n",
      "dtypes: int64(55323)\n",
      "memory usage: 1.0 GB\n"
     ]
    }
   ],
   "source": [
    "df_utility.info()"
   ]
  },
  {
   "cell_type": "markdown",
   "metadata": {},
   "source": [
    "# Recommender system with GraphLab\n",
    "\n",
    "## Item-item recommender "
   ]
  },
  {
   "cell_type": "code",
   "execution_count": 98,
   "metadata": {},
   "outputs": [],
   "source": [
    "import graphlab"
   ]
  },
  {
   "cell_type": "code",
   "execution_count": 99,
   "metadata": {},
   "outputs": [
    {
     "name": "stderr",
     "output_type": "stream",
     "text": [
      "[INFO] graphlab.cython.cy_server: GraphLab Create v2.1 started. Logging: /tmp/graphlab_server_1544181353.log\n"
     ]
    },
    {
     "name": "stdout",
     "output_type": "stream",
     "text": [
      "This non-commercial license of GraphLab Create for academic use is assigned to zhan716@usc.edu and will expire on August 22, 2019.\n"
     ]
    }
   ],
   "source": [
    "sf_stars = graphlab.SFrame(df_rec)"
   ]
  },
  {
   "cell_type": "code",
   "execution_count": 100,
   "metadata": {},
   "outputs": [
    {
     "data": {
      "text/html": [
       "<div style=\"max-height:1000px;max-width:1500px;overflow:auto;\"><table frame=\"box\" rules=\"cols\">\n",
       "    <tr>\n",
       "        <th style=\"padding-left: 1em; padding-right: 1em; text-align: center\">uid</th>\n",
       "        <th style=\"padding-left: 1em; padding-right: 1em; text-align: center\">song_id</th>\n",
       "        <th style=\"padding-left: 1em; padding-right: 1em; text-align: center\">rating</th>\n",
       "    </tr>\n",
       "    <tr>\n",
       "        <td style=\"padding-left: 1em; padding-right: 1em; text-align: center; vertical-align: top\">3346080</td>\n",
       "        <td style=\"padding-left: 1em; padding-right: 1em; text-align: center; vertical-align: top\">20876508</td>\n",
       "        <td style=\"padding-left: 1em; padding-right: 1em; text-align: center; vertical-align: top\">1</td>\n",
       "    </tr>\n",
       "    <tr>\n",
       "        <td style=\"padding-left: 1em; padding-right: 1em; text-align: center; vertical-align: top\">7466984</td>\n",
       "        <td style=\"padding-left: 1em; padding-right: 1em; text-align: center; vertical-align: top\">871878</td>\n",
       "        <td style=\"padding-left: 1em; padding-right: 1em; text-align: center; vertical-align: top\">2</td>\n",
       "    </tr>\n",
       "    <tr>\n",
       "        <td style=\"padding-left: 1em; padding-right: 1em; text-align: center; vertical-align: top\">7466984</td>\n",
       "        <td style=\"padding-left: 1em; padding-right: 1em; text-align: center; vertical-align: top\">2843083</td>\n",
       "        <td style=\"padding-left: 1em; padding-right: 1em; text-align: center; vertical-align: top\">3</td>\n",
       "    </tr>\n",
       "    <tr>\n",
       "        <td style=\"padding-left: 1em; padding-right: 1em; text-align: center; vertical-align: top\">17595990</td>\n",
       "        <td style=\"padding-left: 1em; padding-right: 1em; text-align: center; vertical-align: top\">1014338</td>\n",
       "        <td style=\"padding-left: 1em; padding-right: 1em; text-align: center; vertical-align: top\">1</td>\n",
       "    </tr>\n",
       "    <tr>\n",
       "        <td style=\"padding-left: 1em; padding-right: 1em; text-align: center; vertical-align: top\">24429362</td>\n",
       "        <td style=\"padding-left: 1em; padding-right: 1em; text-align: center; vertical-align: top\">703912</td>\n",
       "        <td style=\"padding-left: 1em; padding-right: 1em; text-align: center; vertical-align: top\">2</td>\n",
       "    </tr>\n",
       "    <tr>\n",
       "        <td style=\"padding-left: 1em; padding-right: 1em; text-align: center; vertical-align: top\">24429362</td>\n",
       "        <td style=\"padding-left: 1em; padding-right: 1em; text-align: center; vertical-align: top\">3251191</td>\n",
       "        <td style=\"padding-left: 1em; padding-right: 1em; text-align: center; vertical-align: top\">5</td>\n",
       "    </tr>\n",
       "    <tr>\n",
       "        <td style=\"padding-left: 1em; padding-right: 1em; text-align: center; vertical-align: top\">54655075</td>\n",
       "        <td style=\"padding-left: 1em; padding-right: 1em; text-align: center; vertical-align: top\">15249349</td>\n",
       "        <td style=\"padding-left: 1em; padding-right: 1em; text-align: center; vertical-align: top\">2</td>\n",
       "    </tr>\n",
       "    <tr>\n",
       "        <td style=\"padding-left: 1em; padding-right: 1em; text-align: center; vertical-align: top\">99651190</td>\n",
       "        <td style=\"padding-left: 1em; padding-right: 1em; text-align: center; vertical-align: top\">4019405</td>\n",
       "        <td style=\"padding-left: 1em; padding-right: 1em; text-align: center; vertical-align: top\">1</td>\n",
       "    </tr>\n",
       "    <tr>\n",
       "        <td style=\"padding-left: 1em; padding-right: 1em; text-align: center; vertical-align: top\">130420955</td>\n",
       "        <td style=\"padding-left: 1em; padding-right: 1em; text-align: center; vertical-align: top\">157612</td>\n",
       "        <td style=\"padding-left: 1em; padding-right: 1em; text-align: center; vertical-align: top\">1</td>\n",
       "    </tr>\n",
       "    <tr>\n",
       "        <td style=\"padding-left: 1em; padding-right: 1em; text-align: center; vertical-align: top\">132279304</td>\n",
       "        <td style=\"padding-left: 1em; padding-right: 1em; text-align: center; vertical-align: top\">9913756</td>\n",
       "        <td style=\"padding-left: 1em; padding-right: 1em; text-align: center; vertical-align: top\">1</td>\n",
       "    </tr>\n",
       "</table>\n",
       "[127468 rows x 3 columns]<br/>Note: Only the head of the SFrame is printed.<br/>You can use print_rows(num_rows=m, num_columns=n) to print more rows and columns.\n",
       "</div>"
      ],
      "text/plain": [
       "Columns:\n",
       "\tuid\tint\n",
       "\tsong_id\tint\n",
       "\trating\tint\n",
       "\n",
       "Rows: 127468\n",
       "\n",
       "Data:\n",
       "+-----------+----------+--------+\n",
       "|    uid    | song_id  | rating |\n",
       "+-----------+----------+--------+\n",
       "|  3346080  | 20876508 |   1    |\n",
       "|  7466984  |  871878  |   2    |\n",
       "|  7466984  | 2843083  |   3    |\n",
       "|  17595990 | 1014338  |   1    |\n",
       "|  24429362 |  703912  |   2    |\n",
       "|  24429362 | 3251191  |   5    |\n",
       "|  54655075 | 15249349 |   2    |\n",
       "|  99651190 | 4019405  |   1    |\n",
       "| 130420955 |  157612  |   1    |\n",
       "| 132279304 | 9913756  |   1    |\n",
       "+-----------+----------+--------+\n",
       "[127468 rows x 3 columns]\n",
       "Note: Only the head of the SFrame is printed.\n",
       "You can use print_rows(num_rows=m, num_columns=n) to print more rows and columns."
      ]
     },
     "execution_count": 100,
     "metadata": {},
     "output_type": "execute_result"
    }
   ],
   "source": [
    "sf_stars"
   ]
  },
  {
   "cell_type": "code",
   "execution_count": 102,
   "metadata": {},
   "outputs": [
    {
     "data": {
      "text/html": [
       "<pre>Recsys training: model = item_similarity</pre>"
      ],
      "text/plain": [
       "Recsys training: model = item_similarity"
      ]
     },
     "metadata": {},
     "output_type": "display_data"
    },
    {
     "data": {
      "text/html": [
       "<pre>Preparing data set.</pre>"
      ],
      "text/plain": [
       "Preparing data set."
      ]
     },
     "metadata": {},
     "output_type": "display_data"
    },
    {
     "data": {
      "text/html": [
       "<pre>    Data has 127468 observations with 2500 users and 55323 items.</pre>"
      ],
      "text/plain": [
       "    Data has 127468 observations with 2500 users and 55323 items."
      ]
     },
     "metadata": {},
     "output_type": "display_data"
    },
    {
     "data": {
      "text/html": [
       "<pre>    Data prepared in: 0.201483s</pre>"
      ],
      "text/plain": [
       "    Data prepared in: 0.201483s"
      ]
     },
     "metadata": {},
     "output_type": "display_data"
    },
    {
     "data": {
      "text/html": [
       "<pre>Training model from provided data.</pre>"
      ],
      "text/plain": [
       "Training model from provided data."
      ]
     },
     "metadata": {},
     "output_type": "display_data"
    },
    {
     "data": {
      "text/html": [
       "<pre>Gathering per-item and per-user statistics.</pre>"
      ],
      "text/plain": [
       "Gathering per-item and per-user statistics."
      ]
     },
     "metadata": {},
     "output_type": "display_data"
    },
    {
     "data": {
      "text/html": [
       "<pre>+--------------------------------+------------+</pre>"
      ],
      "text/plain": [
       "+--------------------------------+------------+"
      ]
     },
     "metadata": {},
     "output_type": "display_data"
    },
    {
     "data": {
      "text/html": [
       "<pre>| Elapsed Time (Item Statistics) | % Complete |</pre>"
      ],
      "text/plain": [
       "| Elapsed Time (Item Statistics) | % Complete |"
      ]
     },
     "metadata": {},
     "output_type": "display_data"
    },
    {
     "data": {
      "text/html": [
       "<pre>+--------------------------------+------------+</pre>"
      ],
      "text/plain": [
       "+--------------------------------+------------+"
      ]
     },
     "metadata": {},
     "output_type": "display_data"
    },
    {
     "data": {
      "text/html": [
       "<pre>| 5.61ms                         | 40         |</pre>"
      ],
      "text/plain": [
       "| 5.61ms                         | 40         |"
      ]
     },
     "metadata": {},
     "output_type": "display_data"
    },
    {
     "data": {
      "text/html": [
       "<pre>| 7.397ms                        | 100        |</pre>"
      ],
      "text/plain": [
       "| 7.397ms                        | 100        |"
      ]
     },
     "metadata": {},
     "output_type": "display_data"
    },
    {
     "data": {
      "text/html": [
       "<pre>+--------------------------------+------------+</pre>"
      ],
      "text/plain": [
       "+--------------------------------+------------+"
      ]
     },
     "metadata": {},
     "output_type": "display_data"
    },
    {
     "data": {
      "text/html": [
       "<pre>Setting up lookup tables.</pre>"
      ],
      "text/plain": [
       "Setting up lookup tables."
      ]
     },
     "metadata": {},
     "output_type": "display_data"
    },
    {
     "data": {
      "text/html": [
       "<pre>Processing data in 2 passes using dense lookup tables.</pre>"
      ],
      "text/plain": [
       "Processing data in 2 passes using dense lookup tables."
      ]
     },
     "metadata": {},
     "output_type": "display_data"
    },
    {
     "data": {
      "text/html": [
       "<pre>+-------------------------------------+------------------+-----------------+</pre>"
      ],
      "text/plain": [
       "+-------------------------------------+------------------+-----------------+"
      ]
     },
     "metadata": {},
     "output_type": "display_data"
    },
    {
     "data": {
      "text/html": [
       "<pre>| Elapsed Time (Constructing Lookups) | Total % Complete | Items Processed |</pre>"
      ],
      "text/plain": [
       "| Elapsed Time (Constructing Lookups) | Total % Complete | Items Processed |"
      ]
     },
     "metadata": {},
     "output_type": "display_data"
    },
    {
     "data": {
      "text/html": [
       "<pre>+-------------------------------------+------------------+-----------------+</pre>"
      ],
      "text/plain": [
       "+-------------------------------------+------------------+-----------------+"
      ]
     },
     "metadata": {},
     "output_type": "display_data"
    },
    {
     "data": {
      "text/html": [
       "<pre>| 7.96s                               | 0                | 12              |</pre>"
      ],
      "text/plain": [
       "| 7.96s                               | 0                | 12              |"
      ]
     },
     "metadata": {},
     "output_type": "display_data"
    },
    {
     "data": {
      "text/html": [
       "<pre>| 8.97s                               | 7.25             | 4030            |</pre>"
      ],
      "text/plain": [
       "| 8.97s                               | 7.25             | 4030            |"
      ]
     },
     "metadata": {},
     "output_type": "display_data"
    },
    {
     "data": {
      "text/html": [
       "<pre>| 9.97s                               | 10.75            | 6045            |</pre>"
      ],
      "text/plain": [
       "| 9.97s                               | 10.75            | 6045            |"
      ]
     },
     "metadata": {},
     "output_type": "display_data"
    },
    {
     "data": {
      "text/html": [
       "<pre>| 10.97s                              | 15.5             | 8626            |</pre>"
      ],
      "text/plain": [
       "| 10.97s                              | 15.5             | 8626            |"
      ]
     },
     "metadata": {},
     "output_type": "display_data"
    },
    {
     "data": {
      "text/html": [
       "<pre>| 11.97s                              | 23.25            | 12979           |</pre>"
      ],
      "text/plain": [
       "| 11.97s                              | 23.25            | 12979           |"
      ]
     },
     "metadata": {},
     "output_type": "display_data"
    },
    {
     "data": {
      "text/html": [
       "<pre>| 12.98s                              | 29               | 16050           |</pre>"
      ],
      "text/plain": [
       "| 12.98s                              | 29               | 16050           |"
      ]
     },
     "metadata": {},
     "output_type": "display_data"
    },
    {
     "data": {
      "text/html": [
       "<pre>| 13.97s                              | 35.25            | 19592           |</pre>"
      ],
      "text/plain": [
       "| 13.97s                              | 35.25            | 19592           |"
      ]
     },
     "metadata": {},
     "output_type": "display_data"
    },
    {
     "data": {
      "text/html": [
       "<pre>| 14.98s                              | 42.25            | 23510           |</pre>"
      ],
      "text/plain": [
       "| 14.98s                              | 42.25            | 23510           |"
      ]
     },
     "metadata": {},
     "output_type": "display_data"
    },
    {
     "data": {
      "text/html": [
       "<pre>| 15.98s                              | 49               | 27172           |</pre>"
      ],
      "text/plain": [
       "| 15.98s                              | 49               | 27172           |"
      ]
     },
     "metadata": {},
     "output_type": "display_data"
    },
    {
     "data": {
      "text/html": [
       "<pre>| 1m 1s                               | 50               | 27673           |</pre>"
      ],
      "text/plain": [
       "| 1m 1s                               | 50               | 27673           |"
      ]
     },
     "metadata": {},
     "output_type": "display_data"
    },
    {
     "data": {
      "text/html": [
       "<pre>| 1m 13s                              | 100              | 55323           |</pre>"
      ],
      "text/plain": [
       "| 1m 13s                              | 100              | 55323           |"
      ]
     },
     "metadata": {},
     "output_type": "display_data"
    },
    {
     "data": {
      "text/html": [
       "<pre>+-------------------------------------+------------------+-----------------+</pre>"
      ],
      "text/plain": [
       "+-------------------------------------+------------------+-----------------+"
      ]
     },
     "metadata": {},
     "output_type": "display_data"
    },
    {
     "data": {
      "text/html": [
       "<pre>Finalizing lookup tables.</pre>"
      ],
      "text/plain": [
       "Finalizing lookup tables."
      ]
     },
     "metadata": {},
     "output_type": "display_data"
    },
    {
     "data": {
      "text/html": [
       "<pre>Generating candidate set for working with new users.</pre>"
      ],
      "text/plain": [
       "Generating candidate set for working with new users."
      ]
     },
     "metadata": {},
     "output_type": "display_data"
    },
    {
     "data": {
      "text/html": [
       "<pre>Finished training in 75.1522s</pre>"
      ],
      "text/plain": [
       "Finished training in 75.1522s"
      ]
     },
     "metadata": {},
     "output_type": "display_data"
    }
   ],
   "source": [
    "# item-item recommender\n",
    "item_item_rec = graphlab.recommender.item_similarity_recommender.create(sf_stars,\n",
    "                                                                        user_id='uid',\n",
    "                                                                        item_id='song_id',\n",
    "                                                                        target = 'rating')"
   ]
  },
  {
   "cell_type": "code",
   "execution_count": 103,
   "metadata": {},
   "outputs": [
    {
     "data": {
      "text/html": [
       "<div style=\"max-height:1000px;max-width:1500px;overflow:auto;\"><table frame=\"box\" rules=\"cols\">\n",
       "    <tr>\n",
       "        <th style=\"padding-left: 1em; padding-right: 1em; text-align: center\">uid</th>\n",
       "        <th style=\"padding-left: 1em; padding-right: 1em; text-align: center\">song_id</th>\n",
       "        <th style=\"padding-left: 1em; padding-right: 1em; text-align: center\">score</th>\n",
       "        <th style=\"padding-left: 1em; padding-right: 1em; text-align: center\">rank</th>\n",
       "    </tr>\n",
       "    <tr>\n",
       "        <td style=\"padding-left: 1em; padding-right: 1em; text-align: center; vertical-align: top\">3346080</td>\n",
       "        <td style=\"padding-left: 1em; padding-right: 1em; text-align: center; vertical-align: top\">2784869</td>\n",
       "        <td style=\"padding-left: 1em; padding-right: 1em; text-align: center; vertical-align: top\">0.0456790123825</td>\n",
       "        <td style=\"padding-left: 1em; padding-right: 1em; text-align: center; vertical-align: top\">1</td>\n",
       "    </tr>\n",
       "    <tr>\n",
       "        <td style=\"padding-left: 1em; padding-right: 1em; text-align: center; vertical-align: top\">3346080</td>\n",
       "        <td style=\"padding-left: 1em; padding-right: 1em; text-align: center; vertical-align: top\">2464362</td>\n",
       "        <td style=\"padding-left: 1em; padding-right: 1em; text-align: center; vertical-align: top\">0.0456790123825</td>\n",
       "        <td style=\"padding-left: 1em; padding-right: 1em; text-align: center; vertical-align: top\">2</td>\n",
       "    </tr>\n",
       "    <tr>\n",
       "        <td style=\"padding-left: 1em; padding-right: 1em; text-align: center; vertical-align: top\">3346080</td>\n",
       "        <td style=\"padding-left: 1em; padding-right: 1em; text-align: center; vertical-align: top\">1754476</td>\n",
       "        <td style=\"padding-left: 1em; padding-right: 1em; text-align: center; vertical-align: top\">0.0436507932566</td>\n",
       "        <td style=\"padding-left: 1em; padding-right: 1em; text-align: center; vertical-align: top\">3</td>\n",
       "    </tr>\n",
       "    <tr>\n",
       "        <td style=\"padding-left: 1em; padding-right: 1em; text-align: center; vertical-align: top\">3346080</td>\n",
       "        <td style=\"padding-left: 1em; padding-right: 1em; text-align: center; vertical-align: top\">1889855</td>\n",
       "        <td style=\"padding-left: 1em; padding-right: 1em; text-align: center; vertical-align: top\">0.04074074052</td>\n",
       "        <td style=\"padding-left: 1em; padding-right: 1em; text-align: center; vertical-align: top\">4</td>\n",
       "    </tr>\n",
       "    <tr>\n",
       "        <td style=\"padding-left: 1em; padding-right: 1em; text-align: center; vertical-align: top\">3346080</td>\n",
       "        <td style=\"padding-left: 1em; padding-right: 1em; text-align: center; vertical-align: top\">288568</td>\n",
       "        <td style=\"padding-left: 1em; padding-right: 1em; text-align: center; vertical-align: top\">0.0398148143733</td>\n",
       "        <td style=\"padding-left: 1em; padding-right: 1em; text-align: center; vertical-align: top\">5</td>\n",
       "    </tr>\n",
       "    <tr>\n",
       "        <td style=\"padding-left: 1em; padding-right: 1em; text-align: center; vertical-align: top\">7466984</td>\n",
       "        <td style=\"padding-left: 1em; padding-right: 1em; text-align: center; vertical-align: top\">7167333</td>\n",
       "        <td style=\"padding-left: 1em; padding-right: 1em; text-align: center; vertical-align: top\">0.0251088521697</td>\n",
       "        <td style=\"padding-left: 1em; padding-right: 1em; text-align: center; vertical-align: top\">1</td>\n",
       "    </tr>\n",
       "    <tr>\n",
       "        <td style=\"padding-left: 1em; padding-right: 1em; text-align: center; vertical-align: top\">7466984</td>\n",
       "        <td style=\"padding-left: 1em; padding-right: 1em; text-align: center; vertical-align: top\">7152046</td>\n",
       "        <td style=\"padding-left: 1em; padding-right: 1em; text-align: center; vertical-align: top\">0.0243377991539</td>\n",
       "        <td style=\"padding-left: 1em; padding-right: 1em; text-align: center; vertical-align: top\">2</td>\n",
       "    </tr>\n",
       "    <tr>\n",
       "        <td style=\"padding-left: 1em; padding-right: 1em; text-align: center; vertical-align: top\">7466984</td>\n",
       "        <td style=\"padding-left: 1em; padding-right: 1em; text-align: center; vertical-align: top\">7169672</td>\n",
       "        <td style=\"padding-left: 1em; padding-right: 1em; text-align: center; vertical-align: top\">0.0228612684311</td>\n",
       "        <td style=\"padding-left: 1em; padding-right: 1em; text-align: center; vertical-align: top\">3</td>\n",
       "    </tr>\n",
       "    <tr>\n",
       "        <td style=\"padding-left: 1em; padding-right: 1em; text-align: center; vertical-align: top\">7466984</td>\n",
       "        <td style=\"padding-left: 1em; padding-right: 1em; text-align: center; vertical-align: top\">7149811</td>\n",
       "        <td style=\"padding-left: 1em; padding-right: 1em; text-align: center; vertical-align: top\">0.0226043083451</td>\n",
       "        <td style=\"padding-left: 1em; padding-right: 1em; text-align: center; vertical-align: top\">4</td>\n",
       "    </tr>\n",
       "    <tr>\n",
       "        <td style=\"padding-left: 1em; padding-right: 1em; text-align: center; vertical-align: top\">7466984</td>\n",
       "        <td style=\"padding-left: 1em; padding-right: 1em; text-align: center; vertical-align: top\">7130624</td>\n",
       "        <td style=\"padding-left: 1em; padding-right: 1em; text-align: center; vertical-align: top\">0.0225126851689</td>\n",
       "        <td style=\"padding-left: 1em; padding-right: 1em; text-align: center; vertical-align: top\">5</td>\n",
       "    </tr>\n",
       "</table>\n",
       "[12500 rows x 4 columns]<br/>Note: Only the head of the SFrame is printed.<br/>You can use print_rows(num_rows=m, num_columns=n) to print more rows and columns.\n",
       "</div>"
      ],
      "text/plain": [
       "Columns:\n",
       "\tuid\tint\n",
       "\tsong_id\tint\n",
       "\tscore\tfloat\n",
       "\trank\tint\n",
       "\n",
       "Rows: 12500\n",
       "\n",
       "Data:\n",
       "+---------+---------+-----------------+------+\n",
       "|   uid   | song_id |      score      | rank |\n",
       "+---------+---------+-----------------+------+\n",
       "| 3346080 | 2784869 | 0.0456790123825 |  1   |\n",
       "| 3346080 | 2464362 | 0.0456790123825 |  2   |\n",
       "| 3346080 | 1754476 | 0.0436507932566 |  3   |\n",
       "| 3346080 | 1889855 |  0.04074074052  |  4   |\n",
       "| 3346080 |  288568 | 0.0398148143733 |  5   |\n",
       "| 7466984 | 7167333 | 0.0251088521697 |  1   |\n",
       "| 7466984 | 7152046 | 0.0243377991539 |  2   |\n",
       "| 7466984 | 7169672 | 0.0228612684311 |  3   |\n",
       "| 7466984 | 7149811 | 0.0226043083451 |  4   |\n",
       "| 7466984 | 7130624 | 0.0225126851689 |  5   |\n",
       "+---------+---------+-----------------+------+\n",
       "[12500 rows x 4 columns]\n",
       "Note: Only the head of the SFrame is printed.\n",
       "You can use print_rows(num_rows=m, num_columns=n) to print more rows and columns."
      ]
     },
     "execution_count": 103,
     "metadata": {},
     "output_type": "execute_result"
    }
   ],
   "source": [
    "# For every user, recommend top 3 songs\n",
    "item_item_rec_result = item_item_rec.recommend(k=5, verbose=False)\n",
    "item_item_rec_result"
   ]
  },
  {
   "cell_type": "markdown",
   "metadata": {},
   "source": [
    "## Popularity-based Recommender"
   ]
  },
  {
   "cell_type": "code",
   "execution_count": 104,
   "metadata": {},
   "outputs": [
    {
     "data": {
      "text/html": [
       "<pre>Recsys training: model = popularity</pre>"
      ],
      "text/plain": [
       "Recsys training: model = popularity"
      ]
     },
     "metadata": {},
     "output_type": "display_data"
    },
    {
     "data": {
      "text/html": [
       "<pre>Preparing data set.</pre>"
      ],
      "text/plain": [
       "Preparing data set."
      ]
     },
     "metadata": {},
     "output_type": "display_data"
    },
    {
     "data": {
      "text/html": [
       "<pre>    Data has 127468 observations with 2500 users and 55323 items.</pre>"
      ],
      "text/plain": [
       "    Data has 127468 observations with 2500 users and 55323 items."
      ]
     },
     "metadata": {},
     "output_type": "display_data"
    },
    {
     "data": {
      "text/html": [
       "<pre>    Data prepared in: 0.237846s</pre>"
      ],
      "text/plain": [
       "    Data prepared in: 0.237846s"
      ]
     },
     "metadata": {},
     "output_type": "display_data"
    },
    {
     "data": {
      "text/html": [
       "<pre>127468 observations to process; with 55323 unique items.</pre>"
      ],
      "text/plain": [
       "127468 observations to process; with 55323 unique items."
      ]
     },
     "metadata": {},
     "output_type": "display_data"
    }
   ],
   "source": [
    "# build recommendation system\n",
    "pop_rec = graphlab.popularity_recommender.create(sf_stars, \n",
    "                                                 user_id = 'uid', \n",
    "                                                 item_id = 'song_id',\n",
    "                                                 target = 'rating')"
   ]
  },
  {
   "cell_type": "code",
   "execution_count": 105,
   "metadata": {},
   "outputs": [
    {
     "data": {
      "text/html": [
       "<pre>recommendations finished on 1000/2500 queries. users per second: 3507.59</pre>"
      ],
      "text/plain": [
       "recommendations finished on 1000/2500 queries. users per second: 3507.59"
      ]
     },
     "metadata": {},
     "output_type": "display_data"
    },
    {
     "data": {
      "text/html": [
       "<pre>recommendations finished on 2000/2500 queries. users per second: 2975.84</pre>"
      ],
      "text/plain": [
       "recommendations finished on 2000/2500 queries. users per second: 2975.84"
      ]
     },
     "metadata": {},
     "output_type": "display_data"
    }
   ],
   "source": [
    "# get recommendation\n",
    "pop_result = pop_rec.recommend()"
   ]
  },
  {
   "cell_type": "code",
   "execution_count": 106,
   "metadata": {},
   "outputs": [
    {
     "name": "stdout",
     "output_type": "stream",
     "text": [
      "+----------+----------+-------+------+\n",
      "|   uid    | song_id  | score | rank |\n",
      "+----------+----------+-------+------+\n",
      "| 3346080  | 5755277  |  5.0  |  1   |\n",
      "| 3346080  | 9327365  |  5.0  |  2   |\n",
      "| 3346080  | 1013750  |  5.0  |  3   |\n",
      "| 3346080  | 4405668  |  5.0  |  4   |\n",
      "| 3346080  | 7153606  |  5.0  |  5   |\n",
      "| 3346080  | 1037101  |  5.0  |  6   |\n",
      "| 3346080  | 1106011  |  5.0  |  7   |\n",
      "| 3346080  | 22857491 |  5.0  |  8   |\n",
      "| 3346080  | 1067925  |  5.0  |  9   |\n",
      "| 3346080  | 9560599  |  5.0  |  10  |\n",
      "| 7466984  | 5755277  |  5.0  |  1   |\n",
      "| 7466984  | 9327365  |  5.0  |  2   |\n",
      "| 7466984  | 1013750  |  5.0  |  3   |\n",
      "| 7466984  | 4405668  |  5.0  |  4   |\n",
      "| 7466984  | 7153606  |  5.0  |  5   |\n",
      "| 7466984  | 1037101  |  5.0  |  6   |\n",
      "| 7466984  | 1106011  |  5.0  |  7   |\n",
      "| 7466984  | 22857491 |  5.0  |  8   |\n",
      "| 7466984  | 1067925  |  5.0  |  9   |\n",
      "| 7466984  | 9560599  |  5.0  |  10  |\n",
      "| 17595990 | 5755277  |  5.0  |  1   |\n",
      "| 17595990 | 9327365  |  5.0  |  2   |\n",
      "| 17595990 | 1013750  |  5.0  |  3   |\n",
      "| 17595990 | 4405668  |  5.0  |  4   |\n",
      "| 17595990 | 7153606  |  5.0  |  5   |\n",
      "| 17595990 | 1037101  |  5.0  |  6   |\n",
      "| 17595990 | 1106011  |  5.0  |  7   |\n",
      "| 17595990 | 22857491 |  5.0  |  8   |\n",
      "| 17595990 | 1067925  |  5.0  |  9   |\n",
      "| 17595990 | 9560599  |  5.0  |  10  |\n",
      "+----------+----------+-------+------+\n",
      "[25000 rows x 4 columns]\n",
      "\n"
     ]
    }
   ],
   "source": [
    "pop_result.print_rows(num_rows=30)"
   ]
  },
  {
   "cell_type": "markdown",
   "metadata": {},
   "source": [
    "## Matrix Factorization Recommender"
   ]
  },
  {
   "cell_type": "code",
   "execution_count": 107,
   "metadata": {},
   "outputs": [
    {
     "data": {
      "text/html": [
       "<pre>Recsys training: model = factorization_recommender</pre>"
      ],
      "text/plain": [
       "Recsys training: model = factorization_recommender"
      ]
     },
     "metadata": {},
     "output_type": "display_data"
    },
    {
     "data": {
      "text/html": [
       "<pre>Preparing data set.</pre>"
      ],
      "text/plain": [
       "Preparing data set."
      ]
     },
     "metadata": {},
     "output_type": "display_data"
    },
    {
     "data": {
      "text/html": [
       "<pre>    Data has 127468 observations with 2500 users and 55323 items.</pre>"
      ],
      "text/plain": [
       "    Data has 127468 observations with 2500 users and 55323 items."
      ]
     },
     "metadata": {},
     "output_type": "display_data"
    },
    {
     "data": {
      "text/html": [
       "<pre>    Data prepared in: 0.184917s</pre>"
      ],
      "text/plain": [
       "    Data prepared in: 0.184917s"
      ]
     },
     "metadata": {},
     "output_type": "display_data"
    },
    {
     "data": {
      "text/html": [
       "<pre>Training factorization_recommender for recommendations.</pre>"
      ],
      "text/plain": [
       "Training factorization_recommender for recommendations."
      ]
     },
     "metadata": {},
     "output_type": "display_data"
    },
    {
     "data": {
      "text/html": [
       "<pre>+------------------------------+--------------------------------------------------+----------+</pre>"
      ],
      "text/plain": [
       "+------------------------------+--------------------------------------------------+----------+"
      ]
     },
     "metadata": {},
     "output_type": "display_data"
    },
    {
     "data": {
      "text/html": [
       "<pre>| Parameter                    | Description                                      | Value    |</pre>"
      ],
      "text/plain": [
       "| Parameter                    | Description                                      | Value    |"
      ]
     },
     "metadata": {},
     "output_type": "display_data"
    },
    {
     "data": {
      "text/html": [
       "<pre>+------------------------------+--------------------------------------------------+----------+</pre>"
      ],
      "text/plain": [
       "+------------------------------+--------------------------------------------------+----------+"
      ]
     },
     "metadata": {},
     "output_type": "display_data"
    },
    {
     "data": {
      "text/html": [
       "<pre>| num_factors                  | Factor Dimension                                 | 8        |</pre>"
      ],
      "text/plain": [
       "| num_factors                  | Factor Dimension                                 | 8        |"
      ]
     },
     "metadata": {},
     "output_type": "display_data"
    },
    {
     "data": {
      "text/html": [
       "<pre>| regularization               | L2 Regularization on Factors                     | 1e-08    |</pre>"
      ],
      "text/plain": [
       "| regularization               | L2 Regularization on Factors                     | 1e-08    |"
      ]
     },
     "metadata": {},
     "output_type": "display_data"
    },
    {
     "data": {
      "text/html": [
       "<pre>| max_iterations               | Maximum Number of Iterations                     | 50       |</pre>"
      ],
      "text/plain": [
       "| max_iterations               | Maximum Number of Iterations                     | 50       |"
      ]
     },
     "metadata": {},
     "output_type": "display_data"
    },
    {
     "data": {
      "text/html": [
       "<pre>| solver                       | Solver used for training                         | als      |</pre>"
      ],
      "text/plain": [
       "| solver                       | Solver used for training                         | als      |"
      ]
     },
     "metadata": {},
     "output_type": "display_data"
    },
    {
     "data": {
      "text/html": [
       "<pre>+------------------------------+--------------------------------------------------+----------+</pre>"
      ],
      "text/plain": [
       "+------------------------------+--------------------------------------------------+----------+"
      ]
     },
     "metadata": {},
     "output_type": "display_data"
    },
    {
     "data": {
      "text/html": [
       "<pre>+---------+--------------+------------------------+</pre>"
      ],
      "text/plain": [
       "+---------+--------------+------------------------+"
      ]
     },
     "metadata": {},
     "output_type": "display_data"
    },
    {
     "data": {
      "text/html": [
       "<pre>| Iter.   | Elapsed time | RMSE                   |</pre>"
      ],
      "text/plain": [
       "| Iter.   | Elapsed time | RMSE                   |"
      ]
     },
     "metadata": {},
     "output_type": "display_data"
    },
    {
     "data": {
      "text/html": [
       "<pre>+---------+--------------+------------------------+</pre>"
      ],
      "text/plain": [
       "+---------+--------------+------------------------+"
      ]
     },
     "metadata": {},
     "output_type": "display_data"
    },
    {
     "data": {
      "text/html": [
       "<pre>| Initial | 132us        | NA                     |</pre>"
      ],
      "text/plain": [
       "| Initial | 132us        | NA                     |"
      ]
     },
     "metadata": {},
     "output_type": "display_data"
    },
    {
     "data": {
      "text/html": [
       "<pre>+---------+--------------+------------------------+</pre>"
      ],
      "text/plain": [
       "+---------+--------------+------------------------+"
      ]
     },
     "metadata": {},
     "output_type": "display_data"
    },
    {
     "data": {
      "text/html": [
       "<pre>| 0       | 157.851ms    | 0.482652               |</pre>"
      ],
      "text/plain": [
       "| 0       | 157.851ms    | 0.482652               |"
      ]
     },
     "metadata": {},
     "output_type": "display_data"
    },
    {
     "data": {
      "text/html": [
       "<pre>| 1       | 294.711ms    | 0.416217               |</pre>"
      ],
      "text/plain": [
       "| 1       | 294.711ms    | 0.416217               |"
      ]
     },
     "metadata": {},
     "output_type": "display_data"
    },
    {
     "data": {
      "text/html": [
       "<pre>| 2       | 470.3ms      | 0.387703               |</pre>"
      ],
      "text/plain": [
       "| 2       | 470.3ms      | 0.387703               |"
      ]
     },
     "metadata": {},
     "output_type": "display_data"
    },
    {
     "data": {
      "text/html": [
       "<pre>| 3       | 671.457ms    | 0.36937                |</pre>"
      ],
      "text/plain": [
       "| 3       | 671.457ms    | 0.36937                |"
      ]
     },
     "metadata": {},
     "output_type": "display_data"
    },
    {
     "data": {
      "text/html": [
       "<pre>| 4       | 829.594ms    | 0.356102               |</pre>"
      ],
      "text/plain": [
       "| 4       | 829.594ms    | 0.356102               |"
      ]
     },
     "metadata": {},
     "output_type": "display_data"
    },
    {
     "data": {
      "text/html": [
       "<pre>| 5       | 971.85ms     | 0.346219               |</pre>"
      ],
      "text/plain": [
       "| 5       | 971.85ms     | 0.346219               |"
      ]
     },
     "metadata": {},
     "output_type": "display_data"
    },
    {
     "data": {
      "text/html": [
       "<pre>| 6       | 1.16s        | 0.338409               |</pre>"
      ],
      "text/plain": [
       "| 6       | 1.16s        | 0.338409               |"
      ]
     },
     "metadata": {},
     "output_type": "display_data"
    },
    {
     "data": {
      "text/html": [
       "<pre>| 7       | 1.37s        | 0.332112               |</pre>"
      ],
      "text/plain": [
       "| 7       | 1.37s        | 0.332112               |"
      ]
     },
     "metadata": {},
     "output_type": "display_data"
    },
    {
     "data": {
      "text/html": [
       "<pre>| 8       | 1.50s        | 0.32697                |</pre>"
      ],
      "text/plain": [
       "| 8       | 1.50s        | 0.32697                |"
      ]
     },
     "metadata": {},
     "output_type": "display_data"
    },
    {
     "data": {
      "text/html": [
       "<pre>| 9       | 1.63s        | 0.322631               |</pre>"
      ],
      "text/plain": [
       "| 9       | 1.63s        | 0.322631               |"
      ]
     },
     "metadata": {},
     "output_type": "display_data"
    },
    {
     "data": {
      "text/html": [
       "<pre>| 10      | 1.78s        | 0.318929               |</pre>"
      ],
      "text/plain": [
       "| 10      | 1.78s        | 0.318929               |"
      ]
     },
     "metadata": {},
     "output_type": "display_data"
    },
    {
     "data": {
      "text/html": [
       "<pre>| 11      | 1.92s        | 0.315717               |</pre>"
      ],
      "text/plain": [
       "| 11      | 1.92s        | 0.315717               |"
      ]
     },
     "metadata": {},
     "output_type": "display_data"
    },
    {
     "data": {
      "text/html": [
       "<pre>| 12      | 2.07s        | 0.312887               |</pre>"
      ],
      "text/plain": [
       "| 12      | 2.07s        | 0.312887               |"
      ]
     },
     "metadata": {},
     "output_type": "display_data"
    },
    {
     "data": {
      "text/html": [
       "<pre>| 13      | 2.20s        | 0.310375               |</pre>"
      ],
      "text/plain": [
       "| 13      | 2.20s        | 0.310375               |"
      ]
     },
     "metadata": {},
     "output_type": "display_data"
    },
    {
     "data": {
      "text/html": [
       "<pre>| 14      | 2.38s        | 0.308116               |</pre>"
      ],
      "text/plain": [
       "| 14      | 2.38s        | 0.308116               |"
      ]
     },
     "metadata": {},
     "output_type": "display_data"
    },
    {
     "data": {
      "text/html": [
       "<pre>| 15      | 2.60s        | 0.306074               |</pre>"
      ],
      "text/plain": [
       "| 15      | 2.60s        | 0.306074               |"
      ]
     },
     "metadata": {},
     "output_type": "display_data"
    },
    {
     "data": {
      "text/html": [
       "<pre>| 16      | 2.73s        | 0.304184               |</pre>"
      ],
      "text/plain": [
       "| 16      | 2.73s        | 0.304184               |"
      ]
     },
     "metadata": {},
     "output_type": "display_data"
    },
    {
     "data": {
      "text/html": [
       "<pre>| 17      | 2.97s        | 0.302445               |</pre>"
      ],
      "text/plain": [
       "| 17      | 2.97s        | 0.302445               |"
      ]
     },
     "metadata": {},
     "output_type": "display_data"
    },
    {
     "data": {
      "text/html": [
       "<pre>| 18      | 3.27s        | 0.300841               |</pre>"
      ],
      "text/plain": [
       "| 18      | 3.27s        | 0.300841               |"
      ]
     },
     "metadata": {},
     "output_type": "display_data"
    },
    {
     "data": {
      "text/html": [
       "<pre>| 19      | 3.45s        | 0.299353               |</pre>"
      ],
      "text/plain": [
       "| 19      | 3.45s        | 0.299353               |"
      ]
     },
     "metadata": {},
     "output_type": "display_data"
    },
    {
     "data": {
      "text/html": [
       "<pre>| 20      | 3.64s        | 0.297958               |</pre>"
      ],
      "text/plain": [
       "| 20      | 3.64s        | 0.297958               |"
      ]
     },
     "metadata": {},
     "output_type": "display_data"
    },
    {
     "data": {
      "text/html": [
       "<pre>| 21      | 3.78s        | 0.296651               |</pre>"
      ],
      "text/plain": [
       "| 21      | 3.78s        | 0.296651               |"
      ]
     },
     "metadata": {},
     "output_type": "display_data"
    },
    {
     "data": {
      "text/html": [
       "<pre>| 22      | 3.91s        | 0.295419               |</pre>"
      ],
      "text/plain": [
       "| 22      | 3.91s        | 0.295419               |"
      ]
     },
     "metadata": {},
     "output_type": "display_data"
    },
    {
     "data": {
      "text/html": [
       "<pre>| 23      | 4.05s        | 0.294263               |</pre>"
      ],
      "text/plain": [
       "| 23      | 4.05s        | 0.294263               |"
      ]
     },
     "metadata": {},
     "output_type": "display_data"
    },
    {
     "data": {
      "text/html": [
       "<pre>| 24      | 4.18s        | 0.293176               |</pre>"
      ],
      "text/plain": [
       "| 24      | 4.18s        | 0.293176               |"
      ]
     },
     "metadata": {},
     "output_type": "display_data"
    },
    {
     "data": {
      "text/html": [
       "<pre>| 25      | 4.31s        | 0.292156               |</pre>"
      ],
      "text/plain": [
       "| 25      | 4.31s        | 0.292156               |"
      ]
     },
     "metadata": {},
     "output_type": "display_data"
    },
    {
     "data": {
      "text/html": [
       "<pre>| 26      | 4.46s        | 0.2912                 |</pre>"
      ],
      "text/plain": [
       "| 26      | 4.46s        | 0.2912                 |"
      ]
     },
     "metadata": {},
     "output_type": "display_data"
    },
    {
     "data": {
      "text/html": [
       "<pre>| 27      | 4.59s        | 0.290301               |</pre>"
      ],
      "text/plain": [
       "| 27      | 4.59s        | 0.290301               |"
      ]
     },
     "metadata": {},
     "output_type": "display_data"
    },
    {
     "data": {
      "text/html": [
       "<pre>| 28      | 4.74s        | 0.289453               |</pre>"
      ],
      "text/plain": [
       "| 28      | 4.74s        | 0.289453               |"
      ]
     },
     "metadata": {},
     "output_type": "display_data"
    },
    {
     "data": {
      "text/html": [
       "<pre>| 29      | 4.87s        | 0.288652               |</pre>"
      ],
      "text/plain": [
       "| 29      | 4.87s        | 0.288652               |"
      ]
     },
     "metadata": {},
     "output_type": "display_data"
    },
    {
     "data": {
      "text/html": [
       "<pre>| 30      | 5.00s        | 0.287891               |</pre>"
      ],
      "text/plain": [
       "| 30      | 5.00s        | 0.287891               |"
      ]
     },
     "metadata": {},
     "output_type": "display_data"
    },
    {
     "data": {
      "text/html": [
       "<pre>| 31      | 5.13s        | 0.287151               |</pre>"
      ],
      "text/plain": [
       "| 31      | 5.13s        | 0.287151               |"
      ]
     },
     "metadata": {},
     "output_type": "display_data"
    },
    {
     "data": {
      "text/html": [
       "<pre>| 32      | 5.26s        | 0.286446               |</pre>"
      ],
      "text/plain": [
       "| 32      | 5.26s        | 0.286446               |"
      ]
     },
     "metadata": {},
     "output_type": "display_data"
    },
    {
     "data": {
      "text/html": [
       "<pre>| 33      | 5.39s        | 0.285776               |</pre>"
      ],
      "text/plain": [
       "| 33      | 5.39s        | 0.285776               |"
      ]
     },
     "metadata": {},
     "output_type": "display_data"
    },
    {
     "data": {
      "text/html": [
       "<pre>| 34      | 5.52s        | 0.285136               |</pre>"
      ],
      "text/plain": [
       "| 34      | 5.52s        | 0.285136               |"
      ]
     },
     "metadata": {},
     "output_type": "display_data"
    },
    {
     "data": {
      "text/html": [
       "<pre>| 35      | 5.65s        | 0.284521               |</pre>"
      ],
      "text/plain": [
       "| 35      | 5.65s        | 0.284521               |"
      ]
     },
     "metadata": {},
     "output_type": "display_data"
    },
    {
     "data": {
      "text/html": [
       "<pre>| 36      | 5.78s        | 0.283927               |</pre>"
      ],
      "text/plain": [
       "| 36      | 5.78s        | 0.283927               |"
      ]
     },
     "metadata": {},
     "output_type": "display_data"
    },
    {
     "data": {
      "text/html": [
       "<pre>| 37      | 5.91s        | 0.283341               |</pre>"
      ],
      "text/plain": [
       "| 37      | 5.91s        | 0.283341               |"
      ]
     },
     "metadata": {},
     "output_type": "display_data"
    },
    {
     "data": {
      "text/html": [
       "<pre>| 38      | 6.04s        | 0.282795               |</pre>"
      ],
      "text/plain": [
       "| 38      | 6.04s        | 0.282795               |"
      ]
     },
     "metadata": {},
     "output_type": "display_data"
    },
    {
     "data": {
      "text/html": [
       "<pre>| 39      | 6.18s        | 0.282273               |</pre>"
      ],
      "text/plain": [
       "| 39      | 6.18s        | 0.282273               |"
      ]
     },
     "metadata": {},
     "output_type": "display_data"
    },
    {
     "data": {
      "text/html": [
       "<pre>| 40      | 6.31s        | 0.281769               |</pre>"
      ],
      "text/plain": [
       "| 40      | 6.31s        | 0.281769               |"
      ]
     },
     "metadata": {},
     "output_type": "display_data"
    },
    {
     "data": {
      "text/html": [
       "<pre>| 41      | 6.44s        | 0.281282               |</pre>"
      ],
      "text/plain": [
       "| 41      | 6.44s        | 0.281282               |"
      ]
     },
     "metadata": {},
     "output_type": "display_data"
    },
    {
     "data": {
      "text/html": [
       "<pre>| 42      | 6.57s        | 0.28081                |</pre>"
      ],
      "text/plain": [
       "| 42      | 6.57s        | 0.28081                |"
      ]
     },
     "metadata": {},
     "output_type": "display_data"
    },
    {
     "data": {
      "text/html": [
       "<pre>| 43      | 6.70s        | 0.280353               |</pre>"
      ],
      "text/plain": [
       "| 43      | 6.70s        | 0.280353               |"
      ]
     },
     "metadata": {},
     "output_type": "display_data"
    },
    {
     "data": {
      "text/html": [
       "<pre>| 44      | 6.83s        | 0.279913               |</pre>"
      ],
      "text/plain": [
       "| 44      | 6.83s        | 0.279913               |"
      ]
     },
     "metadata": {},
     "output_type": "display_data"
    },
    {
     "data": {
      "text/html": [
       "<pre>| 45      | 6.96s        | 0.279486               |</pre>"
      ],
      "text/plain": [
       "| 45      | 6.96s        | 0.279486               |"
      ]
     },
     "metadata": {},
     "output_type": "display_data"
    },
    {
     "data": {
      "text/html": [
       "<pre>| 46      | 7.10s        | 0.279069               |</pre>"
      ],
      "text/plain": [
       "| 46      | 7.10s        | 0.279069               |"
      ]
     },
     "metadata": {},
     "output_type": "display_data"
    },
    {
     "data": {
      "text/html": [
       "<pre>| 47      | 7.22s        | 0.278663               |</pre>"
      ],
      "text/plain": [
       "| 47      | 7.22s        | 0.278663               |"
      ]
     },
     "metadata": {},
     "output_type": "display_data"
    },
    {
     "data": {
      "text/html": [
       "<pre>| 48      | 7.35s        | 0.278269               |</pre>"
      ],
      "text/plain": [
       "| 48      | 7.35s        | 0.278269               |"
      ]
     },
     "metadata": {},
     "output_type": "display_data"
    },
    {
     "data": {
      "text/html": [
       "<pre>| 49      | 7.48s        | 0.277879               |</pre>"
      ],
      "text/plain": [
       "| 49      | 7.48s        | 0.277879               |"
      ]
     },
     "metadata": {},
     "output_type": "display_data"
    },
    {
     "data": {
      "text/html": [
       "<pre>| FINAL   | 7.48s        | 0.277879               |</pre>"
      ],
      "text/plain": [
       "| FINAL   | 7.48s        | 0.277879               |"
      ]
     },
     "metadata": {},
     "output_type": "display_data"
    },
    {
     "data": {
      "text/html": [
       "<pre>+---------+--------------+------------------------+</pre>"
      ],
      "text/plain": [
       "+---------+--------------+------------------------+"
      ]
     },
     "metadata": {},
     "output_type": "display_data"
    },
    {
     "data": {
      "text/html": [
       "<pre>Optimization Complete: Iteration limit reached.</pre>"
      ],
      "text/plain": [
       "Optimization Complete: Iteration limit reached."
      ]
     },
     "metadata": {},
     "output_type": "display_data"
    }
   ],
   "source": [
    "# build the MF model\n",
    "rec = graphlab.recommender.factorization_recommender.create(\n",
    "            sf_stars,\n",
    "            user_id='uid',\n",
    "            item_id='song_id',\n",
    "            target='rating',\n",
    "            solver='als',\n",
    "            side_data_factorization=False)"
   ]
  },
  {
   "cell_type": "markdown",
   "metadata": {},
   "source": [
    "###  See the prediction rating for a user on a song "
   ]
  },
  {
   "cell_type": "code",
   "execution_count": 109,
   "metadata": {},
   "outputs": [
    {
     "data": {
      "text/html": [
       "<div style=\"max-height:1000px;max-width:1500px;overflow:auto;\"><table frame=\"box\" rules=\"cols\">\n",
       "    <tr>\n",
       "        <th style=\"padding-left: 1em; padding-right: 1em; text-align: center\">song_id</th>\n",
       "        <th style=\"padding-left: 1em; padding-right: 1em; text-align: center\">uid</th>\n",
       "    </tr>\n",
       "    <tr>\n",
       "        <td style=\"padding-left: 1em; padding-right: 1em; text-align: center; vertical-align: top\">6461990</td>\n",
       "        <td style=\"padding-left: 1em; padding-right: 1em; text-align: center; vertical-align: top\">3346080</td>\n",
       "    </tr>\n",
       "</table>\n",
       "[1 rows x 2 columns]<br/>\n",
       "</div>"
      ],
      "text/plain": [
       "Columns:\n",
       "\tsong_id\tint\n",
       "\tuid\tint\n",
       "\n",
       "Rows: 1\n",
       "\n",
       "Data:\n",
       "+---------+---------+\n",
       "| song_id |   uid   |\n",
       "+---------+---------+\n",
       "| 6461990 | 3346080 |\n",
       "+---------+---------+\n",
       "[1 rows x 2 columns]"
      ]
     },
     "execution_count": 109,
     "metadata": {},
     "output_type": "execute_result"
    }
   ],
   "source": [
    "one_datapoint_sf = graphlab.SFrame({'uid': [sf_stars['uid'][0]], 'song_id': [sf_stars['song_id'][10]]}) \n",
    "one_datapoint_sf"
   ]
  },
  {
   "cell_type": "code",
   "execution_count": 110,
   "metadata": {},
   "outputs": [
    {
     "name": "stdout",
     "output_type": "stream",
     "text": [
      "rating for datapoint\n",
      "+---------+---------+\n",
      "| song_id |   uid   |\n",
      "+---------+---------+\n",
      "| 6461990 | 3346080 |\n",
      "+---------+---------+\n",
      "[1 rows x 2 columns]\n",
      " \n",
      ": 2.36272055157\n"
     ]
    }
   ],
   "source": [
    "print \"rating for datapoint\\n\", one_datapoint_sf, \"\\n:\", rec.predict(one_datapoint_sf)[0] "
   ]
  },
  {
   "cell_type": "code",
   "execution_count": 112,
   "metadata": {},
   "outputs": [
    {
     "data": {
      "text/html": [
       "<div style=\"max-height:1000px;max-width:1500px;overflow:auto;\"><table frame=\"box\" rules=\"cols\">\n",
       "    <tr>\n",
       "        <th style=\"padding-left: 1em; padding-right: 1em; text-align: center\">uid</th>\n",
       "        <th style=\"padding-left: 1em; padding-right: 1em; text-align: center\">song_id</th>\n",
       "        <th style=\"padding-left: 1em; padding-right: 1em; text-align: center\">score</th>\n",
       "        <th style=\"padding-left: 1em; padding-right: 1em; text-align: center\">rank</th>\n",
       "    </tr>\n",
       "    <tr>\n",
       "        <td style=\"padding-left: 1em; padding-right: 1em; text-align: center; vertical-align: top\">3346080</td>\n",
       "        <td style=\"padding-left: 1em; padding-right: 1em; text-align: center; vertical-align: top\">292491</td>\n",
       "        <td style=\"padding-left: 1em; padding-right: 1em; text-align: center; vertical-align: top\">101.010132256</td>\n",
       "        <td style=\"padding-left: 1em; padding-right: 1em; text-align: center; vertical-align: top\">1</td>\n",
       "    </tr>\n",
       "    <tr>\n",
       "        <td style=\"padding-left: 1em; padding-right: 1em; text-align: center; vertical-align: top\">3346080</td>\n",
       "        <td style=\"padding-left: 1em; padding-right: 1em; text-align: center; vertical-align: top\">101388</td>\n",
       "        <td style=\"padding-left: 1em; padding-right: 1em; text-align: center; vertical-align: top\">81.1492466355</td>\n",
       "        <td style=\"padding-left: 1em; padding-right: 1em; text-align: center; vertical-align: top\">2</td>\n",
       "    </tr>\n",
       "    <tr>\n",
       "        <td style=\"padding-left: 1em; padding-right: 1em; text-align: center; vertical-align: top\">3346080</td>\n",
       "        <td style=\"padding-left: 1em; padding-right: 1em; text-align: center; vertical-align: top\">23536983</td>\n",
       "        <td style=\"padding-left: 1em; padding-right: 1em; text-align: center; vertical-align: top\">76.0493397141</td>\n",
       "        <td style=\"padding-left: 1em; padding-right: 1em; text-align: center; vertical-align: top\">3</td>\n",
       "    </tr>\n",
       "    <tr>\n",
       "        <td style=\"padding-left: 1em; padding-right: 1em; text-align: center; vertical-align: top\">3346080</td>\n",
       "        <td style=\"padding-left: 1em; padding-right: 1em; text-align: center; vertical-align: top\">684594</td>\n",
       "        <td style=\"padding-left: 1em; padding-right: 1em; text-align: center; vertical-align: top\">73.3662342454</td>\n",
       "        <td style=\"padding-left: 1em; padding-right: 1em; text-align: center; vertical-align: top\">4</td>\n",
       "    </tr>\n",
       "    <tr>\n",
       "        <td style=\"padding-left: 1em; padding-right: 1em; text-align: center; vertical-align: top\">3346080</td>\n",
       "        <td style=\"padding-left: 1em; padding-right: 1em; text-align: center; vertical-align: top\">900826</td>\n",
       "        <td style=\"padding-left: 1em; padding-right: 1em; text-align: center; vertical-align: top\">59.3152164841</td>\n",
       "        <td style=\"padding-left: 1em; padding-right: 1em; text-align: center; vertical-align: top\">5</td>\n",
       "    </tr>\n",
       "    <tr>\n",
       "        <td style=\"padding-left: 1em; padding-right: 1em; text-align: center; vertical-align: top\">3346080</td>\n",
       "        <td style=\"padding-left: 1em; padding-right: 1em; text-align: center; vertical-align: top\">707536</td>\n",
       "        <td style=\"padding-left: 1em; padding-right: 1em; text-align: center; vertical-align: top\">58.801483574</td>\n",
       "        <td style=\"padding-left: 1em; padding-right: 1em; text-align: center; vertical-align: top\">6</td>\n",
       "    </tr>\n",
       "    <tr>\n",
       "        <td style=\"padding-left: 1em; padding-right: 1em; text-align: center; vertical-align: top\">3346080</td>\n",
       "        <td style=\"padding-left: 1em; padding-right: 1em; text-align: center; vertical-align: top\">508066</td>\n",
       "        <td style=\"padding-left: 1em; padding-right: 1em; text-align: center; vertical-align: top\">58.8012279893</td>\n",
       "        <td style=\"padding-left: 1em; padding-right: 1em; text-align: center; vertical-align: top\">7</td>\n",
       "    </tr>\n",
       "    <tr>\n",
       "        <td style=\"padding-left: 1em; padding-right: 1em; text-align: center; vertical-align: top\">3346080</td>\n",
       "        <td style=\"padding-left: 1em; padding-right: 1em; text-align: center; vertical-align: top\">10901542</td>\n",
       "        <td style=\"padding-left: 1em; padding-right: 1em; text-align: center; vertical-align: top\">57.0044369126</td>\n",
       "        <td style=\"padding-left: 1em; padding-right: 1em; text-align: center; vertical-align: top\">8</td>\n",
       "    </tr>\n",
       "    <tr>\n",
       "        <td style=\"padding-left: 1em; padding-right: 1em; text-align: center; vertical-align: top\">3346080</td>\n",
       "        <td style=\"padding-left: 1em; padding-right: 1em; text-align: center; vertical-align: top\">123138</td>\n",
       "        <td style=\"padding-left: 1em; padding-right: 1em; text-align: center; vertical-align: top\">52.9487957383</td>\n",
       "        <td style=\"padding-left: 1em; padding-right: 1em; text-align: center; vertical-align: top\">9</td>\n",
       "    </tr>\n",
       "    <tr>\n",
       "        <td style=\"padding-left: 1em; padding-right: 1em; text-align: center; vertical-align: top\">3346080</td>\n",
       "        <td style=\"padding-left: 1em; padding-right: 1em; text-align: center; vertical-align: top\">691218</td>\n",
       "        <td style=\"padding-left: 1em; padding-right: 1em; text-align: center; vertical-align: top\">52.1415867234</td>\n",
       "        <td style=\"padding-left: 1em; padding-right: 1em; text-align: center; vertical-align: top\">10</td>\n",
       "    </tr>\n",
       "</table>\n",
       "[10 rows x 4 columns]<br/>\n",
       "</div>"
      ],
      "text/plain": [
       "Columns:\n",
       "\tuid\tint\n",
       "\tsong_id\tint\n",
       "\tscore\tfloat\n",
       "\trank\tint\n",
       "\n",
       "Rows: 10\n",
       "\n",
       "Data:\n",
       "+---------+----------+---------------+------+\n",
       "|   uid   | song_id  |     score     | rank |\n",
       "+---------+----------+---------------+------+\n",
       "| 3346080 |  292491  | 101.010132256 |  1   |\n",
       "| 3346080 |  101388  | 81.1492466355 |  2   |\n",
       "| 3346080 | 23536983 | 76.0493397141 |  3   |\n",
       "| 3346080 |  684594  | 73.3662342454 |  4   |\n",
       "| 3346080 |  900826  | 59.3152164841 |  5   |\n",
       "| 3346080 |  707536  |  58.801483574 |  6   |\n",
       "| 3346080 |  508066  | 58.8012279893 |  7   |\n",
       "| 3346080 | 10901542 | 57.0044369126 |  8   |\n",
       "| 3346080 |  123138  | 52.9487957383 |  9   |\n",
       "| 3346080 |  691218  | 52.1415867234 |  10  |\n",
       "+---------+----------+---------------+------+\n",
       "[10 rows x 4 columns]"
      ]
     },
     "execution_count": 112,
     "metadata": {},
     "output_type": "execute_result"
    }
   ],
   "source": [
    "# For a specic user\n",
    "rec.recommend(users=[sf_stars['uid'][0]], k=10)"
   ]
  },
  {
   "cell_type": "markdown",
   "metadata": {},
   "source": [
    "### Training Root Mean Squared Error"
   ]
  },
  {
   "cell_type": "code",
   "execution_count": 114,
   "metadata": {},
   "outputs": [
    {
     "name": "stdout",
     "output_type": "stream",
     "text": [
      "The training rmse: 0.277879101015\n"
     ]
    }
   ],
   "source": [
    "print \"The training rmse:\", rec['training_rmse']"
   ]
  },
  {
   "cell_type": "markdown",
   "metadata": {},
   "source": [
    "### Regularization Method for MF Recommender "
   ]
  },
  {
   "cell_type": "code",
   "execution_count": 115,
   "metadata": {},
   "outputs": [
    {
     "data": {
      "text/html": [
       "<pre>Recsys training: model = factorization_recommender</pre>"
      ],
      "text/plain": [
       "Recsys training: model = factorization_recommender"
      ]
     },
     "metadata": {},
     "output_type": "display_data"
    },
    {
     "name": "stdout",
     "output_type": "stream",
     "text": [
      "training rmse with regularization 10: 1.09093221346\n"
     ]
    }
   ],
   "source": [
    "random_seed = 0\n",
    "regularization_param = 10\n",
    "rec_regularized = graphlab.recommender.factorization_recommender.create(\n",
    "                    sf_stars,\n",
    "                    user_id='uid',\n",
    "                    item_id='song_id',\n",
    "                    target='rating',\n",
    "                    solver='als',\n",
    "                    side_data_factorization=False,\n",
    "                    regularization=regularization_param,\n",
    "                    random_seed=random_seed,\n",
    "                    verbose=False) \n",
    "print \"training rmse with regularization %s:\"%regularization_param, rec_regularized['training_rmse']"
   ]
  },
  {
   "cell_type": "markdown",
   "metadata": {},
   "source": [
    "## Model Tune via Cross-validation\n",
    "<font color = red>\n",
    "However, as we can see, the training rmse above is very small, it is very likely for them to suffer a serious over-fitting problem."
   ]
  },
  {
   "cell_type": "code",
   "execution_count": 116,
   "metadata": {},
   "outputs": [
    {
     "name": "stderr",
     "output_type": "stream",
     "text": [
      "/Library/Frameworks/Python.framework/Versions/2.7/lib/python2.7/site-packages/sklearn/ensemble/weight_boosting.py:29: DeprecationWarning: numpy.core.umath_tests is an internal NumPy module and should not be imported. It will be removed in a future NumPy release.\n",
      "  from numpy.core.umath_tests import inner1d\n",
      "[INFO] graphlab.deploy.job: Validating job.\n",
      "[INFO] graphlab.deploy.job: Creating a LocalAsync environment called 'async'.\n",
      "[INFO] graphlab.deploy.map_job: Validation complete. Job: 'Model-Parameter-Search-Dec-07-2018-03-25-4100000' ready for execution\n",
      "[INFO] graphlab.deploy.map_job: Job: 'Model-Parameter-Search-Dec-07-2018-03-25-4100000' scheduled.\n",
      "[INFO] graphlab.deploy.job: Validating job.\n",
      "[INFO] graphlab.deploy.map_job: A job with name 'Model-Parameter-Search-Dec-07-2018-03-25-4100000' already exists. Renaming the job to 'Model-Parameter-Search-Dec-07-2018-03-25-4100000-ec9e2'.\n",
      "[INFO] graphlab.deploy.map_job: Validation complete. Job: 'Model-Parameter-Search-Dec-07-2018-03-25-4100000-ec9e2' ready for execution\n",
      "[INFO] graphlab.deploy.map_job: Job: 'Model-Parameter-Search-Dec-07-2018-03-25-4100000-ec9e2' scheduled.\n",
      "[INFO] graphlab.deploy.job: Validating job.\n",
      "[INFO] graphlab.deploy.map_job: Validation complete. Job: 'Model-Parameter-Search-Dec-07-2018-03-25-4100001' ready for execution\n",
      "[INFO] graphlab.deploy.map_job: Job: 'Model-Parameter-Search-Dec-07-2018-03-25-4100001' scheduled.\n",
      "[INFO] graphlab.deploy.job: Validating job.\n",
      "[INFO] graphlab.deploy.map_job: Validation complete. Job: 'Model-Parameter-Search-Dec-07-2018-03-25-4100002' ready for execution\n",
      "[INFO] graphlab.deploy.map_job: Job: 'Model-Parameter-Search-Dec-07-2018-03-25-4100002' scheduled.\n"
     ]
    }
   ],
   "source": [
    "kfolds = graphlab.cross_validation.KFold(sf_stars, 5)\n",
    "\n",
    "params = dict(user_id='uid', \n",
    "              item_id='song_id', \n",
    "              target='rating',\n",
    "              solver='als', \n",
    "              side_data_factorization=False)\n",
    "\n",
    "paramsearch = graphlab.model_parameter_search.create(\n",
    "                    kfolds,\n",
    "                    graphlab.recommender.factorization_recommender.create,\n",
    "                    params)"
   ]
  },
  {
   "cell_type": "code",
   "execution_count": 117,
   "metadata": {},
   "outputs": [
    {
     "data": {
      "text/plain": [
       "{'item_id': 'song_id',\n",
       " 'linear_regularization': 1e-07,\n",
       " 'max_iterations': 50,\n",
       " 'num_factors': 64,\n",
       " 'regularization': 0.0001,\n",
       " 'side_data_factorization': False,\n",
       " 'solver': 'als',\n",
       " 'target': 'rating',\n",
       " 'user_id': 'uid'}"
      ]
     },
     "execution_count": 117,
     "metadata": {},
     "output_type": "execute_result"
    }
   ],
   "source": [
    "best_params = paramsearch.get_best_params('mean_validation_rmse', ascending=True)\n",
    "best_params"
   ]
  },
  {
   "cell_type": "code",
   "execution_count": 118,
   "metadata": {},
   "outputs": [
    {
     "name": "stdout",
     "output_type": "stream",
     "text": [
      "The params of the best model are: \n",
      "{'side_data_factorization': False, 'regularization': 0.0001, 'user_id': 'uid', 'target': 'rating', 'solver': 'als', 'num_factors': 64, 'item_id': 'song_id', 'max_iterations': 50, 'linear_regularization': 1e-07} \n",
      " The mean training rmse is: \n",
      " 0.7428056812120007 \n",
      " The mean validation rmse is: \n",
      " 1.0274712323770883\n"
     ]
    }
   ],
   "source": [
    "results_df = paramsearch.get_results().to_dataframe()\n",
    "results_df_sorted = results_df.sort_values('mean_validation_rmse')\n",
    "print 'The params of the best model are: \\n', best_params, \\\n",
    "       '\\n The mean training rmse is: \\n %s'%results_df_sorted['mean_training_rmse'].iloc[0], \\\n",
    "       '\\n The mean validation rmse is: \\n %s'%results_df_sorted['mean_validation_rmse'].iloc[0]"
   ]
  },
  {
   "cell_type": "markdown",
   "metadata": {},
   "source": [
    "After tuning the model we finally acquire is fairly robust. "
   ]
  },
  {
   "cell_type": "code",
   "execution_count": null,
   "metadata": {},
   "outputs": [],
   "source": []
  },
  {
   "cell_type": "code",
   "execution_count": null,
   "metadata": {},
   "outputs": [],
   "source": []
  },
  {
   "cell_type": "code",
   "execution_count": null,
   "metadata": {},
   "outputs": [],
   "source": []
  }
 ],
 "metadata": {
  "kernelspec": {
   "display_name": "Python 2",
   "language": "python",
   "name": "python2"
  },
  "language_info": {
   "codemirror_mode": {
    "name": "ipython",
    "version": 2
   },
   "file_extension": ".py",
   "mimetype": "text/x-python",
   "name": "python",
   "nbconvert_exporter": "python",
   "pygments_lexer": "ipython2",
   "version": "2.7.11"
  }
 },
 "nbformat": 4,
 "nbformat_minor": 2
}
