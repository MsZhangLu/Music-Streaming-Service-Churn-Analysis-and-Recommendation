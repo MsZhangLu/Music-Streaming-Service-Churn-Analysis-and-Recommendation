{
 "cells": [
  {
   "cell_type": "markdown",
   "metadata": {},
   "source": [
    "### Load data"
   ]
  },
  {
   "cell_type": "code",
   "execution_count": 1,
   "metadata": {},
   "outputs": [],
   "source": [
    "from pyspark.sql.types import *\n",
    "from pyspark.mllib.linalg import Vectors\n",
    "from pyspark.mllib.linalg import DenseVector\n",
    "from pyspark.ml.feature import VectorAssembler\n",
    "from pyspark.ml.feature import StringIndexer, VectorIndexer\n",
    "from pyspark.ml import Pipeline\n",
    "from pyspark.ml.classification import LogisticRegression\n",
    "from pyspark.ml.classification import DecisionTreeClassifier\n",
    "from pyspark.ml.classification import RandomForestClassifier\n",
    "from pyspark.ml.classification import GBTClassifier\n",
    "from pyspark.ml.tuning import CrossValidator, ParamGridBuilder\n",
    "from pyspark.ml.evaluation import BinaryClassificationEvaluator\n",
    "from pyspark.ml.evaluation import MulticlassClassificationEvaluator"
   ]
  },
  {
   "cell_type": "code",
   "execution_count": 2,
   "metadata": {},
   "outputs": [
    {
     "name": "stdout",
     "output_type": "stream",
     "text": [
      "+---------+-----+-------------+-------------+-------------+--------------+--------------+-------------+-------------+-------------+--------------+--------------+-------------+-------------+-------------+--------------+--------------+---------------+---------------+---------------+----------------+------------------+------------------+------------------+-------------------+-------------------+-----------+\n",
      "|      uid|label|freq_P_last_1|freq_P_last_3|freq_P_last_7|freq_P_last_14|freq_P_last_30|freq_D_last_1|freq_D_last_3|freq_D_last_7|freq_D_last_14|freq_D_last_30|freq_S_last_1|freq_S_last_3|freq_S_last_7|freq_S_last_14|freq_S_last_30|last_P_from_now|last_S_from_now|last_D_from_now|user_life_length|total_play_times_1|total_play_times_3|total_play_times_7|total_play_times_14|total_play_times_30|device_type|\n",
      "+---------+-----+-------------+-------------+-------------+--------------+--------------+-------------+-------------+-------------+--------------+--------------+-------------+-------------+-------------+--------------+--------------+---------------+---------------+---------------+----------------+------------------+------------------+------------------+-------------------+-------------------+-----------+\n",
      "|118301183|    1|            0|            0|            0|             0|            10|            0|            0|            0|             0|             0|            0|            0|            0|             0|             0|             27|              0|              0|              28|               0.0|               0.0|               0.0|                0.0|  81.04841540424819|          2|\n",
      "|133747174|    0|            0|            0|            0|             7|            40|            0|            0|            0|             0|             0|            0|            0|            0|             2|             2|             12|             12|              0|              27|               0.0|               0.0|               0.0| 24.860476438350204|  85.61091505160027|          2|\n",
      "|149292492|    1|            0|            3|            3|             3|            14|            0|            0|            0|             0|             0|            0|            0|            0|             0|             0|              2|              0|              0|              30|               0.0| 23.05564300595067| 23.05564300595067|  23.05564300595067|  60.00259875882466|          2|\n",
      "|154708890|    1|            0|            0|            0|             0|             6|            0|            0|            0|             0|             0|            0|            0|            0|             0|             0|             20|              0|              0|              30|               0.0|               0.0|               0.0|                0.0| 13.302117597555403|          2|\n",
      "|159613840|    0|            4|           51|           51|            51|            51|            3|            3|            3|             3|             3|            1|            8|            8|             8|             8|              0|              0|              0|               2|12.472835847811396|101.52903817043631|101.52903817043631| 101.52903817043631| 101.52903817043631|          2|\n",
      "+---------+-----+-------------+-------------+-------------+--------------+--------------+-------------+-------------+-------------+--------------+--------------+-------------+-------------+-------------+--------------+--------------+---------------+---------------+---------------+----------------+------------------+------------------+------------------+-------------------+-------------------+-----------+\n",
      "only showing top 5 rows\n",
      "\n"
     ]
    }
   ],
   "source": [
    "df = spark.read.csv(\n",
    "    '../data/df_model_final.csv', \n",
    "    header=True,\n",
    "    inferSchema=True\n",
    ").cache()\n",
    "df.show(5)"
   ]
  },
  {
   "cell_type": "code",
   "execution_count": 3,
   "metadata": {},
   "outputs": [
    {
     "data": {
      "text/plain": [
       "DataFrame[uid: int, label: int, freq_P_last_1: int, freq_P_last_3: int, freq_P_last_7: int, freq_P_last_14: int, freq_P_last_30: int, freq_D_last_1: int, freq_D_last_3: int, freq_D_last_7: int, freq_D_last_14: int, freq_D_last_30: int, freq_S_last_1: int, freq_S_last_3: int, freq_S_last_7: int, freq_S_last_14: int, freq_S_last_30: int, last_P_from_now: int, last_S_from_now: int, last_D_from_now: int, user_life_length: int, total_play_times_1: double, total_play_times_3: double, total_play_times_7: double, total_play_times_14: double, total_play_times_30: double, device_type: int]"
      ]
     },
     "execution_count": 3,
     "metadata": {},
     "output_type": "execute_result"
    }
   ],
   "source": [
    "df"
   ]
  },
  {
   "cell_type": "markdown",
   "metadata": {},
   "source": [
    "### Prepare training data"
   ]
  },
  {
   "cell_type": "code",
   "execution_count": 6,
   "metadata": {},
   "outputs": [
    {
     "data": {
      "text/plain": [
       "['freq_P_last_1',\n",
       " 'freq_P_last_3',\n",
       " 'freq_P_last_7',\n",
       " 'freq_P_last_14',\n",
       " 'freq_P_last_30',\n",
       " 'freq_D_last_1',\n",
       " 'freq_D_last_3',\n",
       " 'freq_D_last_7',\n",
       " 'freq_D_last_14',\n",
       " 'freq_D_last_30',\n",
       " 'freq_S_last_1',\n",
       " 'freq_S_last_3',\n",
       " 'freq_S_last_7',\n",
       " 'freq_S_last_14',\n",
       " 'freq_S_last_30',\n",
       " 'last_P_from_now',\n",
       " 'last_S_from_now',\n",
       " 'last_D_from_now',\n",
       " 'user_life_length',\n",
       " 'total_play_times_1',\n",
       " 'total_play_times_3',\n",
       " 'total_play_times_7',\n",
       " 'total_play_times_14',\n",
       " 'total_play_times_30']"
      ]
     },
     "execution_count": 6,
     "metadata": {},
     "output_type": "execute_result"
    }
   ],
   "source": [
    "selected_features = df.columns\n",
    "selected_features.remove('uid')\n",
    "selected_features.remove('label')\n",
    "selected_features.remove('device_type')\n",
    "selected_features"
   ]
  },
  {
   "cell_type": "code",
   "execution_count": 9,
   "metadata": {},
   "outputs": [],
   "source": [
    "assembler = VectorAssembler(\n",
    "    inputCols=selected_features,\n",
    "    outputCol='features'\n",
    ")\n",
    "data = assembler.transform(df)\n",
    "(train, test) = data.randomSplit([0.7,0.3], seed=1)"
   ]
  },
  {
   "cell_type": "markdown",
   "metadata": {},
   "source": [
    "### Evaluate performance"
   ]
  },
  {
   "cell_type": "code",
   "execution_count": 16,
   "metadata": {},
   "outputs": [],
   "source": [
    "%matplotlib inline\n",
    "import matplotlib.pyplot as plt\n",
    "from sklearn.metrics import roc_curve, auc, roc_auc_score\n",
    "\n",
    "def plot_roc_curve(y_train, y_train_pred, y_test, y_test_pred):\n",
    "    roc_auc_train = roc_auc_score(y_train, y_train_pred)\n",
    "    fpr_train, tpr_train, _ = roc_curve(y_train, y_train_pred)\n",
    "\n",
    "    roc_auc_test = roc_auc_score(y_test, y_test_pred)\n",
    "    fpr_test, tpr_test, _ = roc_curve(y_test, y_test_pred)\n",
    "    plt.figure()\n",
    "    lw = 2\n",
    "    plt.plot(fpr_train, tpr_train, color='green',\n",
    "             lw=lw, label='ROC Train (AUC = %0.4f)' % roc_auc_train)\n",
    "    plt.plot(fpr_test, tpr_test, color='darkorange',\n",
    "             lw=lw, label='ROC Test (AUC = %0.4f)' % roc_auc_test)\n",
    "    plt.plot([0, 1], [0, 1], color='navy', lw=lw, linestyle='--')\n",
    "    plt.xlim([0.0, 1.0])\n",
    "    plt.ylim([0.0, 1.05])\n",
    "    plt.xlabel('False Positive Rate')\n",
    "    plt.ylabel('True Positive Rate')\n",
    "    plt.title('Receiver operating characteristic example')\n",
    "    plt.legend(loc=\"lower right\")\n",
    "    plt.show()\n",
    "    "
   ]
  },
  {
   "cell_type": "markdown",
   "metadata": {},
   "source": [
    "### Predict and evaluate performance"
   ]
  },
  {
   "cell_type": "markdown",
   "metadata": {},
   "source": [
    "### Fit logistic regression"
   ]
  },
  {
   "cell_type": "code",
   "execution_count": 17,
   "metadata": {},
   "outputs": [],
   "source": [
    "ml = LogisticRegression(maxIter=3, regParam=0.01)\n",
    "model = ml.fit(train)"
   ]
  },
  {
   "cell_type": "code",
   "execution_count": 18,
   "metadata": {},
   "outputs": [
    {
     "name": "stdout",
     "output_type": "stream",
     "text": [
      "+--------------------+----------+-----+--------------------+\n",
      "|         probability|prediction|label|            features|\n",
      "+--------------------+----------+-----+--------------------+\n",
      "|[0.23643773819396...|       1.0|    1|(24,[4,9,14,15,16...|\n",
      "|[0.94552695172688...|       0.0|    0|(24,[2,3,4,15,18,...|\n",
      "|[0.30455081504928...|       1.0|    1|(24,[3,4,15,18,22...|\n",
      "|[0.64060291910637...|       0.0|    0|(24,[1,2,3,4,15,1...|\n",
      "|[0.99982688154604...|       0.0|    0|[82.0,222.0,441.0...|\n",
      "+--------------------+----------+-----+--------------------+\n",
      "only showing top 5 rows\n",
      "\n",
      "+--------------------+----------+-----+--------------------+\n",
      "|         probability|prediction|label|            features|\n",
      "+--------------------+----------+-----+--------------------+\n",
      "|[0.95996081941730...|       0.0|    0|[20.0,59.0,147.0,...|\n",
      "|[0.45371445133616...|       1.0|    0|(24,[2,3,4,9,14,1...|\n",
      "|[0.43136831054324...|       1.0|    0|(24,[2,3,4,15,18,...|\n",
      "|[0.99730905820905...|       0.0|    0|(24,[2,3,4,8,9,15...|\n",
      "|[0.51004395292682...|       0.0|    0|(24,[0,1,2,3,4,18...|\n",
      "+--------------------+----------+-----+--------------------+\n",
      "only showing top 5 rows\n",
      "\n"
     ]
    }
   ],
   "source": [
    "# predict train data\n",
    "predictions_train = model.transform(train)\n",
    "# select example rows to display\n",
    "predictions_train.select('probability', 'prediction', 'label', 'features').show(5)\n",
    "res_train = predictions_train.select('probability', 'label').toPandas()\n",
    "\n",
    "# predict test data\n",
    "predictions_test = model.transform(test)\n",
    "predictions_test.select('probability', 'prediction', 'label', 'features').show(5)\n",
    "res_test = predictions_test.select('probability', 'label').toPandas()"
   ]
  },
  {
   "cell_type": "code",
   "execution_count": 19,
   "metadata": {},
   "outputs": [
    {
     "data": {
      "image/png": "[encoded data removed]",
      "text/plain": [
       "<matplotlib.figure.Figure at 0x1125efda0>"
      ]
     },
     "metadata": {},
     "output_type": "display_data"
    }
   ],
   "source": [
    "y_train = res_train['label']\n",
    "y_train_pred = [v[1] for v in res_train['probability']]\n",
    "y_test = res_test['label']\n",
    "y_test_pred = [v[1] for v in res_test['probability']]\n",
    "\n",
    "plot_roc_curve(y_train, y_train_pred, y_test, y_test_pred)"
   ]
  },
  {
   "cell_type": "markdown",
   "metadata": {},
   "source": [
    "### Random forest"
   ]
  },
  {
   "cell_type": "code",
   "execution_count": 24,
   "metadata": {},
   "outputs": [],
   "source": [
    "ml = RandomForestClassifier(\n",
    "    labelCol='label'\n",
    "    , featuresCol='features'\n",
    "    , numTrees=50\n",
    "    , featureSubsetStrategy='auto'\n",
    "    , impurity='gini'\n",
    "    , maxDepth=12#20\n",
    "    , minInstancesPerNode=10\n",
    "    , maxBins=16\n",
    ")\n",
    "model = ml.fit(train)"
   ]
  },
  {
   "cell_type": "code",
   "execution_count": 27,
   "metadata": {},
   "outputs": [
    {
     "name": "stdout",
     "output_type": "stream",
     "text": [
      "+--------------------+----------+-----+--------------------+\n",
      "|         probability|prediction|label|            features|\n",
      "+--------------------+----------+-----+--------------------+\n",
      "|[0.10809784600842...|       1.0|    1|(24,[4,9,14,15,16...|\n",
      "|[0.66189768103814...|       0.0|    0|(24,[2,3,4,15,18,...|\n",
      "|[0.23789894619490...|       1.0|    1|(24,[3,4,15,18,22...|\n",
      "|[0.83175866412820...|       0.0|    0|(24,[1,2,3,4,15,1...|\n",
      "|[0.98178086623328...|       0.0|    0|[82.0,222.0,441.0...|\n",
      "+--------------------+----------+-----+--------------------+\n",
      "only showing top 5 rows\n",
      "\n",
      "+--------------------+----------+-----+--------------------+\n",
      "|         probability|prediction|label|            features|\n",
      "+--------------------+----------+-----+--------------------+\n",
      "|[0.99741875862212...|       0.0|    0|[20.0,59.0,147.0,...|\n",
      "|[0.79879730659720...|       0.0|    0|(24,[2,3,4,9,14,1...|\n",
      "|[0.65664722253564...|       0.0|    0|(24,[2,3,4,15,18,...|\n",
      "|[0.64412799401857...|       0.0|    0|(24,[2,3,4,8,9,15...|\n",
      "|[0.90895685991383...|       0.0|    0|(24,[0,1,2,3,4,18...|\n",
      "+--------------------+----------+-----+--------------------+\n",
      "only showing top 5 rows\n",
      "\n"
     ]
    }
   ],
   "source": [
    "# predict train data\n",
    "predictions_train = model.transform(train)\n",
    "# select example rows to display\n",
    "predictions_train.select('probability', 'prediction', 'label', 'features').show(5)\n",
    "res_train = predictions_train.select('probability', 'label').toPandas()\n",
    "\n",
    "# predict test data\n",
    "predictions_test = model.transform(test)\n",
    "predictions_test.select('probability', 'prediction', 'label', 'features').show(5)\n",
    "res_test = predictions_test.select('probability', 'label').toPandas()"
   ]
  },
  {
   "cell_type": "code",
   "execution_count": 28,
   "metadata": {},
   "outputs": [
    {
     "data": {
      "image/png": "[encoded data removed]",
      "text/plain": [
       "<matplotlib.figure.Figure at 0x111396eb8>"
      ]
     },
     "metadata": {},
     "output_type": "display_data"
    }
   ],
   "source": [
    "y_train = res_train['label']\n",
    "y_train_pred = [v[1] for v in res_train['probability']]\n",
    "y_test = res_test['label']\n",
    "y_test_pred = [v[1] for v in res_test['probability']]\n",
    "\n",
    "plot_roc_curve(y_train, y_train_pred, y_test, y_test_pred)"
   ]
  },
  {
   "cell_type": "code",
   "execution_count": null,
   "metadata": {},
   "outputs": [],
   "source": []
  }
 ],
 "metadata": {
  "kernelspec": {
   "display_name": "Python 3",
   "language": "python",
   "name": "python3"
  },
  "language_info": {
   "codemirror_mode": {
    "name": "ipython",
    "version": 3
   },
   "file_extension": ".py",
   "mimetype": "text/x-python",
   "name": "python",
   "nbconvert_exporter": "python",
   "pygments_lexer": "ipython3",
   "version": "3.6.4"
  }
 },
 "nbformat": 4,
 "nbformat_minor": 2
}
