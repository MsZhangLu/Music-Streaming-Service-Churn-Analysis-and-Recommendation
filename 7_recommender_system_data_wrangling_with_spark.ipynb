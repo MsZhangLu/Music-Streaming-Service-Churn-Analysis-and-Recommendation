{
 "cells": [
  {
   "cell_type": "markdown",
   "metadata": {},
   "source": [
    "# Recommender System Data Wrangling"
   ]
  },
  {
   "cell_type": "markdown",
   "metadata": {},
   "source": [
    "## Problem Definition"
   ]
  },
  {
   "cell_type": "markdown",
   "metadata": {},
   "source": [
    "A recommender system is a system that predicts a user's rating on an item. Based upon the ratings, we could recommend top-rated items for each user. \n",
    "\n",
    "The boosting internet brings us many more options than before. When we browse, it is hard and time-consuming for customers to choose what they like out of thousands of possible choices. This is where the recommender system comes in.\n",
    "\n",
    "In order to run smoothly. We only take last two weeks' records."
   ]
  },
  {
   "cell_type": "markdown",
   "metadata": {},
   "source": [
    "## Load data into Spark DataFrame"
   ]
  },
  {
   "cell_type": "code",
   "execution_count": 1,
   "metadata": {},
   "outputs": [],
   "source": [
    "from pyspark import SparkContext\n",
    "import pyspark.sql.functions as F\n",
    "\n",
    "import numpy as np\n",
    "import pandas as pd\n",
    "\n",
    "import matplotlib.pyplot as plt\n",
    "\n",
    "%matplotlib inline"
   ]
  },
  {
   "cell_type": "code",
   "execution_count": 25,
   "metadata": {
    "scrolled": true
   },
   "outputs": [
    {
     "data": {
      "text/plain": [
       "DataFrame[uid: string, event: string, song_id: string, date: string]"
      ]
     },
     "execution_count": 25,
     "metadata": {},
     "output_type": "execute_result"
    }
   ],
   "source": [
    "df = spark.read.csv('../data/event_ds.csv',header=True).cache()\n",
    "df"
   ]
  },
  {
   "cell_type": "markdown",
   "metadata": {},
   "source": [
    "## Data Exploration"
   ]
  },
  {
   "cell_type": "markdown",
   "metadata": {},
   "source": [
    "### Data cleansing"
   ]
  },
  {
   "cell_type": "markdown",
   "metadata": {},
   "source": [
    "#### Features' Type Casting and Verification"
   ]
  },
  {
   "cell_type": "code",
   "execution_count": 26,
   "metadata": {
    "scrolled": true
   },
   "outputs": [
    {
     "data": {
      "text/plain": [
       "DataFrame[uid: int, event: string, song_id: int, date: date]"
      ]
     },
     "execution_count": 26,
     "metadata": {},
     "output_type": "execute_result"
    }
   ],
   "source": [
    "df = df.withColumn('date', F.col('date').cast('date'))\n",
    "for col in ['uid', 'song_id']:\n",
    "    df = df.withColumn(col, F.col(col).cast('int'))\n",
    "df"
   ]
  },
  {
   "cell_type": "markdown",
   "metadata": {},
   "source": [
    "#### Missing Value Inputation"
   ]
  },
  {
   "cell_type": "code",
   "execution_count": 5,
   "metadata": {
    "scrolled": true
   },
   "outputs": [
    {
     "name": "stdout",
     "output_type": "stream",
     "text": [
      "+---+-----+-------+----+\n",
      "|uid|event|song_id|date|\n",
      "+---+-----+-------+----+\n",
      "|  0|    0| 774576|   0|\n",
      "+---+-----+-------+----+\n",
      "\n"
     ]
    }
   ],
   "source": [
    "df.select(*[F.sum(F.col(c).isNull().cast(\"int\")).alias(c) for c in df.columns]).show()"
   ]
  },
  {
   "cell_type": "code",
   "execution_count": 4,
   "metadata": {
    "scrolled": true
   },
   "outputs": [
    {
     "data": {
      "text/plain": [
       "10757820"
      ]
     },
     "execution_count": 4,
     "metadata": {},
     "output_type": "execute_result"
    }
   ],
   "source": [
    "df.count()"
   ]
  },
  {
   "cell_type": "markdown",
   "metadata": {},
   "source": [
    "#### Exclude song_id == 0, i.e. song_id is missing"
   ]
  },
  {
   "cell_type": "code",
   "execution_count": 27,
   "metadata": {},
   "outputs": [],
   "source": [
    "df = df.filter(F.col('song_id') > 0)"
   ]
  },
  {
   "cell_type": "code",
   "execution_count": 8,
   "metadata": {
    "scrolled": true
   },
   "outputs": [
    {
     "name": "stdout",
     "output_type": "stream",
     "text": [
      "+---+-----+-------+----+\n",
      "|uid|event|song_id|date|\n",
      "+---+-----+-------+----+\n",
      "|  0|    0|      0|   0|\n",
      "+---+-----+-------+----+\n",
      "\n"
     ]
    }
   ],
   "source": [
    "# df.select(*[F.sum(F.col(c).isNull().cast(\"int\")).alias(c) for c in df.columns]).show()"
   ]
  },
  {
   "cell_type": "markdown",
   "metadata": {},
   "source": [
    "#### Exclude inactive users\n",
    "18732 records are removed. `df.count()-df_play_active.count() = 10721905 - 10703173 = 18372`"
   ]
  },
  {
   "cell_type": "code",
   "execution_count": 28,
   "metadata": {},
   "outputs": [],
   "source": [
    "user_song_count = df.groupBy('uid').agg(F.count(F.col('song_id')).alias('songs_played'))      "
   ]
  },
  {
   "cell_type": "code",
   "execution_count": 6,
   "metadata": {},
   "outputs": [
    {
     "data": {
      "text/plain": [
       "57944"
      ]
     },
     "execution_count": 6,
     "metadata": {},
     "output_type": "execute_result"
    }
   ],
   "source": [
    "# count the total number of users\n",
    "user_song_count.count()"
   ]
  },
  {
   "cell_type": "code",
   "execution_count": 30,
   "metadata": {},
   "outputs": [
    {
     "data": {
      "text/plain": [
       "21890"
      ]
     },
     "execution_count": 30,
     "metadata": {},
     "output_type": "execute_result"
    }
   ],
   "source": [
    "# count the number of inactive users\n",
    "inactive_user = user_song_count.filter('songs_played < 5')\n",
    "inactive_user.count()"
   ]
  },
  {
   "cell_type": "code",
   "execution_count": 31,
   "metadata": {},
   "outputs": [],
   "source": [
    "df_play_join = df.join(user_song_count, 'uid')"
   ]
  },
  {
   "cell_type": "code",
   "execution_count": 32,
   "metadata": {},
   "outputs": [],
   "source": [
    "df_play_active = df_play_join.filter(F.col('songs_played') >= 5)"
   ]
  },
  {
   "cell_type": "code",
   "execution_count": 33,
   "metadata": {
    "scrolled": false
   },
   "outputs": [],
   "source": [
    "# df_play_active.show(5)"
   ]
  },
  {
   "cell_type": "code",
   "execution_count": 14,
   "metadata": {},
   "outputs": [
    {
     "data": {
      "text/plain": [
       "10703173"
      ]
     },
     "execution_count": 14,
     "metadata": {},
     "output_type": "execute_result"
    }
   ],
   "source": [
    "# df_play_active.count() # 10703173"
   ]
  },
  {
   "cell_type": "markdown",
   "metadata": {},
   "source": [
    "song id, user id"
   ]
  },
  {
   "cell_type": "code",
   "execution_count": 13,
   "metadata": {},
   "outputs": [
    {
     "data": {
      "text/plain": [
       "(48847, 470423)"
      ]
     },
     "execution_count": 13,
     "metadata": {},
     "output_type": "execute_result"
    }
   ],
   "source": [
    "df_play_active.select('uid').distinct().count(), df_play_active.select('song_id').distinct().count()"
   ]
  },
  {
   "cell_type": "code",
   "execution_count": 14,
   "metadata": {},
   "outputs": [
    {
     "data": {
      "text/plain": [
       "3355846"
      ]
     },
     "execution_count": 14,
     "metadata": {},
     "output_type": "execute_result"
    }
   ],
   "source": [
    "df_play_active.select('uid', 'song_id').distinct().count()"
   ]
  },
  {
   "cell_type": "code",
   "execution_count": 15,
   "metadata": {},
   "outputs": [
    {
     "name": "stdout",
     "output_type": "stream",
     "text": [
      "+----------+----------+\n",
      "|start_date|  end_date|\n",
      "+----------+----------+\n",
      "|2017-03-30|2017-05-12|\n",
      "+----------+----------+\n",
      "\n"
     ]
    }
   ],
   "source": [
    "df.select(F.min(F.col('date')).alias('start_date'), F.max(F.col('date')).alias('end_date')).show()"
   ]
  },
  {
   "cell_type": "code",
   "execution_count": 16,
   "metadata": {},
   "outputs": [],
   "source": [
    "date_count = df.groupBy('date').count().toPandas()"
   ]
  },
  {
   "cell_type": "code",
   "execution_count": 17,
   "metadata": {
    "scrolled": true
   },
   "outputs": [
    {
     "data": {
      "text/plain": [
       "(array([736419., 736426., 736433., 736440., 736447., 736454., 736461.]),\n",
       " <a list of 7 Text xticklabel objects>)"
      ]
     },
     "execution_count": 17,
     "metadata": {},
     "output_type": "execute_result"
    },
    {
     "data": {
      "image/png": "[encoded data removed]",
      "text/plain": [
       "<matplotlib.figure.Figure at 0x1118054a8>"
      ]
     },
     "metadata": {},
     "output_type": "display_data"
    }
   ],
   "source": [
    "# We use matplotlib for plotting\n",
    "import matplotlib.pyplot as plt\n",
    "# This statement allow to display plot without asking to\n",
    "%matplotlib inline\n",
    "plt.bar(date_count.date.tolist(), date_count['count'])\n",
    "plt.xticks(rotation='vertical')"
   ]
  },
  {
   "cell_type": "markdown",
   "metadata": {},
   "source": [
    "## Generation of Implicit Rating"
   ]
  },
  {
   "cell_type": "markdown",
   "metadata": {},
   "source": [
    "#### Frequency"
   ]
  },
  {
   "cell_type": "code",
   "execution_count": 34,
   "metadata": {},
   "outputs": [
    {
     "name": "stdout",
     "output_type": "stream",
     "text": [
      "recommendation window: 2017-04-29 ~ 2017-05-12 \n",
      "days: 14\n"
     ]
    }
   ],
   "source": [
    "import datetime\n",
    "from dateutil import parser\n",
    "\n",
    "reco_window_size= 14 \n",
    "reco_window_end_date = parser.parse('2017-05-12').date()\n",
    "reco_window_start_date = reco_window_end_date - datetime.timedelta(reco_window_size - 1)\n",
    "print('recommendation window:', reco_window_start_date, '~', \n",
    "      reco_window_end_date, '\\ndays:', reco_window_size)"
   ]
  },
  {
   "cell_type": "code",
   "execution_count": 35,
   "metadata": {},
   "outputs": [],
   "source": [
    "def frequency_reco_generation_time_windows(df,event,time_window_list,snapshot_date):\n",
    "    \"\"\"\n",
    "    generate frequency features for one event type and a list of time windows\n",
    "    \"\"\"\n",
    "    df_feature = df \\\n",
    "        .filter(F.col('event')==event) \\\n",
    "        .groupBy('uid', 'song_id') \\\n",
    "        .agg(*[F.sum(F.when((F.col('date')>=snapshot_date-datetime.timedelta(time_window-1)) \\\n",
    "                            & (F.col('date')<=snapshot_date),1).otherwise(0))\\\n",
    "               .alias('freq_'+event+'_last_'+str(time_window)) \\\n",
    "                for time_window in time_window_list]\n",
    "            )# *[] opens list and make them comma separated\n",
    "    return df_feature"
   ]
  },
  {
   "cell_type": "code",
   "execution_count": 36,
   "metadata": {},
   "outputs": [],
   "source": [
    "# generate frequency features for all event_list, time_window_list\n",
    "event_list = ['P','D']\n",
    "time_window_list = [14]\n",
    "snapshot_date = reco_window_end_date\n",
    "\n",
    "df_rec_list = []\n",
    "for event in event_list:\n",
    "    df_rec_list.append(frequency_reco_generation_time_windows(df,event,\n",
    "                                                                     time_window_list,snapshot_date))"
   ]
  },
  {
   "cell_type": "code",
   "execution_count": 37,
   "metadata": {},
   "outputs": [
    {
     "data": {
      "text/plain": [
       "[DataFrame[uid: int, song_id: int, freq_P_last_14: bigint],\n",
       " DataFrame[uid: int, song_id: int, freq_D_last_14: bigint]]"
      ]
     },
     "execution_count": 37,
     "metadata": {},
     "output_type": "execute_result"
    }
   ],
   "source": [
    "df_rec_list"
   ]
  },
  {
   "cell_type": "markdown",
   "metadata": {},
   "source": [
    "#### Play Time/Song Length"
   ]
  },
  {
   "cell_type": "code",
   "execution_count": 38,
   "metadata": {},
   "outputs": [
    {
     "name": "stdout",
     "output_type": "stream",
     "text": [
      "+---------+------+--------+----------+---------+-----------+\n",
      "|      uid|device| song_id|      date|play_time|song_length|\n",
      "+---------+------+--------+----------+---------+-----------+\n",
      "|168551247|    ar|11881432|2017-03-30|       78|        149|\n",
      "|168551026|    ar|19477157|2017-03-30|        2|         31|\n",
      "|168551430|    ar| 1179220|2017-03-30|      231|        231|\n",
      "|168548714|    ar|23492572|2017-03-30|        2|        359|\n",
      "|168550890|    ar|23491657|2017-03-30|      330|        331|\n",
      "+---------+------+--------+----------+---------+-----------+\n",
      "only showing top 5 rows\n",
      "\n"
     ]
    }
   ],
   "source": [
    "df_play = spark.read.csv('../data/play_ds.csv',header=True)\n",
    "df_play.show(5)"
   ]
  },
  {
   "cell_type": "code",
   "execution_count": 39,
   "metadata": {},
   "outputs": [],
   "source": [
    "# df_play_feature_window.show(10)\n",
    "df_profile = df_play.drop('device').distinct() \\\n",
    "    .withColumn('uid', F.col('uid').cast('int')) \\\n",
    "    .withColumn('song_id', F.col('song_id').cast('int')) \\\n",
    "    .withColumn('play_time', F.col('play_time').cast(\"float\")) \\\n",
    "    .withColumn('song_length', F.col('song_length').cast('float'))\n"
   ]
  },
  {
   "cell_type": "markdown",
   "metadata": {},
   "source": [
    "#### Play Time and Song Length Cleansing"
   ]
  },
  {
   "cell_type": "code",
   "execution_count": 40,
   "metadata": {},
   "outputs": [
    {
     "name": "stdout",
     "output_type": "stream",
     "text": [
      "+---------+-------+----------+---------+-----------+\n",
      "|      uid|song_id|      date|play_time|song_length|\n",
      "+---------+-------+----------+---------+-----------+\n",
      "|169028184|   null|2017-04-01|    199.0|      199.0|\n",
      "|167978413|   null|2017-04-01|    212.0|      212.0|\n",
      "|169028184|   null|2017-03-30|    255.0|      255.0|\n",
      "|168126865|   null|2017-04-03|    286.0|      286.0|\n",
      "|156937783|      0|2017-03-30|      1.0|      291.0|\n",
      "|168671782|      0|2017-03-30|      1.0|      209.0|\n",
      "|168741053|      0|2017-03-30|      1.0|      282.0|\n",
      "|168817641|      0|2017-03-30|      1.0|      219.0|\n",
      "|168817641|      0|2017-03-30|      1.0|      234.0|\n",
      "|168858906|      0|2017-03-30|      1.0|       61.0|\n",
      "+---------+-------+----------+---------+-----------+\n",
      "only showing top 10 rows\n",
      "\n"
     ]
    }
   ],
   "source": [
    "df_profile = df_profile.filter((F.col('play_time') > 0) & (F.col('song_length') > 0) \\\n",
    "                              & (F.col('play_time') <= F.col('song_length')))\n",
    "# df_profile.describe().show()\n",
    "df_profile.show(10)"
   ]
  },
  {
   "cell_type": "code",
   "execution_count": 18,
   "metadata": {},
   "outputs": [],
   "source": [
    "# median_song_length = df_profile.approxQuantile('song_length', [0.5], 0.01)\n",
    "\n",
    "# df_profile = df_profile.withColumn('song_length', F.when(df_profile['song_length'] == 0, median_song_length[0]) \\\n",
    "#                                   .otherwise(df_profile['song_length']))"
   ]
  },
  {
   "cell_type": "code",
   "execution_count": 41,
   "metadata": {},
   "outputs": [],
   "source": [
    "# feature: play_time/song_length\n",
    "def relative_freq_reco_generation_time_windows(df,time_window_list,snapshot_date):\n",
    "    \"\"\"\n",
    "    generate counts of songs play 80% of their song length (using play_ds data) for different time window\n",
    "    \"\"\"\n",
    "    df_feature = df \\\n",
    "        .groupBy('uid', 'song_id') \\\n",
    "        .agg(*[F.sum(F.when((F.col('date')>=snapshot_date-datetime.timedelta(time_window-1)) \\\n",
    "                            & (F.col('date')<=snapshot_date) \\\n",
    "                            & (F.col('play_time')/F.col('song_length')>=0.8),1).otherwise(0))\\\n",
    "               .alias('rela_freq_last_'+str(time_window)) \\\n",
    "                for time_window in time_window_list]\n",
    "            )# *[] opens list and make them comma separated\n",
    "    return df_feature"
   ]
  },
  {
   "cell_type": "code",
   "execution_count": 42,
   "metadata": {},
   "outputs": [
    {
     "data": {
      "text/plain": [
       "DataFrame[uid: int, song_id: int, rela_freq_last_14: bigint]"
      ]
     },
     "execution_count": 42,
     "metadata": {},
     "output_type": "execute_result"
    }
   ],
   "source": [
    "time_window_list = [14]\n",
    "snapshot_date = reco_window_end_date\n",
    "df_rela_freq_reco = relative_freq_reco_generation_time_windows(df_profile, time_window_list, snapshot_date)\n",
    "df_rela_freq_reco"
   ]
  },
  {
   "cell_type": "markdown",
   "metadata": {},
   "source": [
    "### Join all feature datasets together"
   ]
  },
  {
   "cell_type": "code",
   "execution_count": 43,
   "metadata": {},
   "outputs": [],
   "source": [
    "def join_reco_data(df_reco_list):\n",
    "    df_master = df_reco_list[0]\n",
    "    df_reco_list.pop(0)\n",
    "    for df_reco in df_reco_list:\n",
    "        df_master = df_master.join(df_reco,on=['uid','song_id'],how='left')\n",
    "        #df_master.persist() # uncomment if number of joins is too many\n",
    "    return df_master"
   ]
  },
  {
   "cell_type": "code",
   "execution_count": 44,
   "metadata": {},
   "outputs": [
    {
     "data": {
      "text/plain": [
       "DataFrame[uid: int, song_id: int, freq_P_last_14: bigint, freq_D_last_14: bigint, rela_freq_last_14: bigint]"
      ]
     },
     "execution_count": 44,
     "metadata": {},
     "output_type": "execute_result"
    }
   ],
   "source": [
    "df_rec_list_copy = df_rec_list.copy()\n",
    "df_rec_list_copy.append(df_rela_freq_reco)\n",
    "df_rec_final = join_reco_data(df_rec_list_copy)\n",
    "df_rec_final"
   ]
  },
  {
   "cell_type": "code",
   "execution_count": 45,
   "metadata": {},
   "outputs": [
    {
     "data": {
      "text/plain": [
       "2940821"
      ]
     },
     "execution_count": 45,
     "metadata": {},
     "output_type": "execute_result"
    }
   ],
   "source": [
    "df_rec_final.count()"
   ]
  },
  {
   "cell_type": "code",
   "execution_count": 66,
   "metadata": {},
   "outputs": [],
   "source": [
    "df_rec_final = df_rec_final.fillna(0).toPandas()"
   ]
  },
  {
   "cell_type": "code",
   "execution_count": 34,
   "metadata": {},
   "outputs": [],
   "source": [
    "df_rec_final.to_csv('../data/df_rec_final.csv',index=False)"
   ]
  },
  {
   "cell_type": "code",
   "execution_count": null,
   "metadata": {},
   "outputs": [],
   "source": []
  },
  {
   "cell_type": "code",
   "execution_count": 19,
   "metadata": {
    "scrolled": true
   },
   "outputs": [],
   "source": [
    "df_rec_final = pd.read_csv('../data/df_rec_final.csv')"
   ]
  }
 ],
 "metadata": {
  "kernelspec": {
   "display_name": "Python 3",
   "language": "python",
   "name": "python3"
  },
  "language_info": {
   "codemirror_mode": {
    "name": "ipython",
    "version": 3
   },
   "file_extension": ".py",
   "mimetype": "text/x-python",
   "name": "python",
   "nbconvert_exporter": "python",
   "pygments_lexer": "ipython3",
   "version": "3.6.4"
  }
 },
 "nbformat": 4,
 "nbformat_minor": 2
}
